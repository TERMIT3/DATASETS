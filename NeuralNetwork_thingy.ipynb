{
 "cells": [
  {
   "cell_type": "code",
   "execution_count": 1,
   "metadata": {},
   "outputs": [],
   "source": [
    "import numpy as np\n",
    "import matplotlib.pyplot as plt\n",
    "%matplotlib inline\n",
    "import pandas as pd\n",
    "import seaborn as sns\n",
    "import sklearn"
   ]
  },
  {
   "cell_type": "markdown",
   "metadata": {},
   "source": [
    "## Оценка покупательных намерений клиентов онлайн магазина\n",
    "\n",
    "Данный датасет состоит из данных о сессиях клиентов магазина. Датасет был сформирован так, чтобы каждая задокументированная сессия принадлежала одному уникальному пользователю, посетившему сайт магазина за год. Сделано это было, чтобы избежать каких-либо тенденций, возможно связанных с маркетинговыми кампаниями, акциями, отдельными пользователями или временными периодами.\n",
    "\n",
    "\n",
    "Загружаем данные датасета\n"
   ]
  },
  {
   "cell_type": "code",
   "execution_count": 2,
   "metadata": {},
   "outputs": [],
   "source": [
    "data = pd.read_csv('online_shoppers_intention.csv')"
   ]
  },
  {
   "cell_type": "code",
   "execution_count": 3,
   "metadata": {},
   "outputs": [
    {
     "data": {
      "text/plain": [
       "pandas.core.frame.DataFrame"
      ]
     },
     "execution_count": 3,
     "metadata": {},
     "output_type": "execute_result"
    }
   ],
   "source": [
    "type(data)"
   ]
  },
  {
   "cell_type": "code",
   "execution_count": 4,
   "metadata": {},
   "outputs": [
    {
     "data": {
      "text/plain": [
       "(12330, 18)"
      ]
     },
     "execution_count": 4,
     "metadata": {},
     "output_type": "execute_result"
    }
   ],
   "source": [
    "data.shape"
   ]
  },
  {
   "cell_type": "code",
   "execution_count": 5,
   "metadata": {},
   "outputs": [
    {
     "data": {
      "text/html": [
       "<div>\n",
       "<style scoped>\n",
       "    .dataframe tbody tr th:only-of-type {\n",
       "        vertical-align: middle;\n",
       "    }\n",
       "\n",
       "    .dataframe tbody tr th {\n",
       "        vertical-align: top;\n",
       "    }\n",
       "\n",
       "    .dataframe thead th {\n",
       "        text-align: right;\n",
       "    }\n",
       "</style>\n",
       "<table border=\"1\" class=\"dataframe\">\n",
       "  <thead>\n",
       "    <tr style=\"text-align: right;\">\n",
       "      <th></th>\n",
       "      <th>Administrative</th>\n",
       "      <th>Administrative_Duration</th>\n",
       "      <th>Informational</th>\n",
       "      <th>Informational_Duration</th>\n",
       "      <th>ProductRelated</th>\n",
       "      <th>ProductRelated_Duration</th>\n",
       "      <th>BounceRates</th>\n",
       "      <th>ExitRates</th>\n",
       "      <th>PageValues</th>\n",
       "      <th>SpecialDay</th>\n",
       "      <th>Month</th>\n",
       "      <th>OperatingSystems</th>\n",
       "      <th>Browser</th>\n",
       "      <th>Region</th>\n",
       "      <th>TrafficType</th>\n",
       "      <th>VisitorType</th>\n",
       "      <th>Weekend</th>\n",
       "      <th>Revenue</th>\n",
       "    </tr>\n",
       "  </thead>\n",
       "  <tbody>\n",
       "    <tr>\n",
       "      <th>0</th>\n",
       "      <td>0</td>\n",
       "      <td>0.0</td>\n",
       "      <td>0</td>\n",
       "      <td>0.0</td>\n",
       "      <td>1</td>\n",
       "      <td>0.000000</td>\n",
       "      <td>0.20</td>\n",
       "      <td>0.20</td>\n",
       "      <td>0.0</td>\n",
       "      <td>0.0</td>\n",
       "      <td>Feb</td>\n",
       "      <td>1</td>\n",
       "      <td>1</td>\n",
       "      <td>1</td>\n",
       "      <td>1</td>\n",
       "      <td>Returning_Visitor</td>\n",
       "      <td>False</td>\n",
       "      <td>False</td>\n",
       "    </tr>\n",
       "    <tr>\n",
       "      <th>1</th>\n",
       "      <td>0</td>\n",
       "      <td>0.0</td>\n",
       "      <td>0</td>\n",
       "      <td>0.0</td>\n",
       "      <td>2</td>\n",
       "      <td>64.000000</td>\n",
       "      <td>0.00</td>\n",
       "      <td>0.10</td>\n",
       "      <td>0.0</td>\n",
       "      <td>0.0</td>\n",
       "      <td>Feb</td>\n",
       "      <td>2</td>\n",
       "      <td>2</td>\n",
       "      <td>1</td>\n",
       "      <td>2</td>\n",
       "      <td>Returning_Visitor</td>\n",
       "      <td>False</td>\n",
       "      <td>False</td>\n",
       "    </tr>\n",
       "    <tr>\n",
       "      <th>2</th>\n",
       "      <td>0</td>\n",
       "      <td>0.0</td>\n",
       "      <td>0</td>\n",
       "      <td>0.0</td>\n",
       "      <td>1</td>\n",
       "      <td>0.000000</td>\n",
       "      <td>0.20</td>\n",
       "      <td>0.20</td>\n",
       "      <td>0.0</td>\n",
       "      <td>0.0</td>\n",
       "      <td>Feb</td>\n",
       "      <td>4</td>\n",
       "      <td>1</td>\n",
       "      <td>9</td>\n",
       "      <td>3</td>\n",
       "      <td>Returning_Visitor</td>\n",
       "      <td>False</td>\n",
       "      <td>False</td>\n",
       "    </tr>\n",
       "    <tr>\n",
       "      <th>3</th>\n",
       "      <td>0</td>\n",
       "      <td>0.0</td>\n",
       "      <td>0</td>\n",
       "      <td>0.0</td>\n",
       "      <td>2</td>\n",
       "      <td>2.666667</td>\n",
       "      <td>0.05</td>\n",
       "      <td>0.14</td>\n",
       "      <td>0.0</td>\n",
       "      <td>0.0</td>\n",
       "      <td>Feb</td>\n",
       "      <td>3</td>\n",
       "      <td>2</td>\n",
       "      <td>2</td>\n",
       "      <td>4</td>\n",
       "      <td>Returning_Visitor</td>\n",
       "      <td>False</td>\n",
       "      <td>False</td>\n",
       "    </tr>\n",
       "    <tr>\n",
       "      <th>4</th>\n",
       "      <td>0</td>\n",
       "      <td>0.0</td>\n",
       "      <td>0</td>\n",
       "      <td>0.0</td>\n",
       "      <td>10</td>\n",
       "      <td>627.500000</td>\n",
       "      <td>0.02</td>\n",
       "      <td>0.05</td>\n",
       "      <td>0.0</td>\n",
       "      <td>0.0</td>\n",
       "      <td>Feb</td>\n",
       "      <td>3</td>\n",
       "      <td>3</td>\n",
       "      <td>1</td>\n",
       "      <td>4</td>\n",
       "      <td>Returning_Visitor</td>\n",
       "      <td>True</td>\n",
       "      <td>False</td>\n",
       "    </tr>\n",
       "  </tbody>\n",
       "</table>\n",
       "</div>"
      ],
      "text/plain": [
       "   Administrative  Administrative_Duration  Informational  \\\n",
       "0               0                      0.0              0   \n",
       "1               0                      0.0              0   \n",
       "2               0                      0.0              0   \n",
       "3               0                      0.0              0   \n",
       "4               0                      0.0              0   \n",
       "\n",
       "   Informational_Duration  ProductRelated  ProductRelated_Duration  \\\n",
       "0                     0.0               1                 0.000000   \n",
       "1                     0.0               2                64.000000   \n",
       "2                     0.0               1                 0.000000   \n",
       "3                     0.0               2                 2.666667   \n",
       "4                     0.0              10               627.500000   \n",
       "\n",
       "   BounceRates  ExitRates  PageValues  SpecialDay Month  OperatingSystems  \\\n",
       "0         0.20       0.20         0.0         0.0   Feb                 1   \n",
       "1         0.00       0.10         0.0         0.0   Feb                 2   \n",
       "2         0.20       0.20         0.0         0.0   Feb                 4   \n",
       "3         0.05       0.14         0.0         0.0   Feb                 3   \n",
       "4         0.02       0.05         0.0         0.0   Feb                 3   \n",
       "\n",
       "   Browser  Region  TrafficType        VisitorType  Weekend  Revenue  \n",
       "0        1       1            1  Returning_Visitor    False    False  \n",
       "1        2       1            2  Returning_Visitor    False    False  \n",
       "2        1       9            3  Returning_Visitor    False    False  \n",
       "3        2       2            4  Returning_Visitor    False    False  \n",
       "4        3       1            4  Returning_Visitor     True    False  "
      ]
     },
     "execution_count": 5,
     "metadata": {},
     "output_type": "execute_result"
    }
   ],
   "source": [
    "data.head()"
   ]
  },
  {
   "cell_type": "code",
   "execution_count": 6,
   "metadata": {},
   "outputs": [
    {
     "data": {
      "text/html": [
       "<div>\n",
       "<style scoped>\n",
       "    .dataframe tbody tr th:only-of-type {\n",
       "        vertical-align: middle;\n",
       "    }\n",
       "\n",
       "    .dataframe tbody tr th {\n",
       "        vertical-align: top;\n",
       "    }\n",
       "\n",
       "    .dataframe thead th {\n",
       "        text-align: right;\n",
       "    }\n",
       "</style>\n",
       "<table border=\"1\" class=\"dataframe\">\n",
       "  <thead>\n",
       "    <tr style=\"text-align: right;\">\n",
       "      <th></th>\n",
       "      <th>Administrative</th>\n",
       "      <th>Administrative_Duration</th>\n",
       "      <th>Informational</th>\n",
       "      <th>Informational_Duration</th>\n",
       "      <th>ProductRelated</th>\n",
       "      <th>ProductRelated_Duration</th>\n",
       "      <th>BounceRates</th>\n",
       "      <th>ExitRates</th>\n",
       "      <th>PageValues</th>\n",
       "      <th>SpecialDay</th>\n",
       "      <th>Month</th>\n",
       "      <th>OperatingSystems</th>\n",
       "      <th>Browser</th>\n",
       "      <th>Region</th>\n",
       "      <th>TrafficType</th>\n",
       "      <th>VisitorType</th>\n",
       "      <th>Weekend</th>\n",
       "      <th>Revenue</th>\n",
       "    </tr>\n",
       "  </thead>\n",
       "  <tbody>\n",
       "    <tr>\n",
       "      <th>12325</th>\n",
       "      <td>3</td>\n",
       "      <td>145.0</td>\n",
       "      <td>0</td>\n",
       "      <td>0.0</td>\n",
       "      <td>53</td>\n",
       "      <td>1783.791667</td>\n",
       "      <td>0.007143</td>\n",
       "      <td>0.029031</td>\n",
       "      <td>12.241717</td>\n",
       "      <td>0.0</td>\n",
       "      <td>Dec</td>\n",
       "      <td>4</td>\n",
       "      <td>6</td>\n",
       "      <td>1</td>\n",
       "      <td>1</td>\n",
       "      <td>Returning_Visitor</td>\n",
       "      <td>True</td>\n",
       "      <td>False</td>\n",
       "    </tr>\n",
       "    <tr>\n",
       "      <th>12326</th>\n",
       "      <td>0</td>\n",
       "      <td>0.0</td>\n",
       "      <td>0</td>\n",
       "      <td>0.0</td>\n",
       "      <td>5</td>\n",
       "      <td>465.750000</td>\n",
       "      <td>0.000000</td>\n",
       "      <td>0.021333</td>\n",
       "      <td>0.000000</td>\n",
       "      <td>0.0</td>\n",
       "      <td>Nov</td>\n",
       "      <td>3</td>\n",
       "      <td>2</td>\n",
       "      <td>1</td>\n",
       "      <td>8</td>\n",
       "      <td>Returning_Visitor</td>\n",
       "      <td>True</td>\n",
       "      <td>False</td>\n",
       "    </tr>\n",
       "    <tr>\n",
       "      <th>12327</th>\n",
       "      <td>0</td>\n",
       "      <td>0.0</td>\n",
       "      <td>0</td>\n",
       "      <td>0.0</td>\n",
       "      <td>6</td>\n",
       "      <td>184.250000</td>\n",
       "      <td>0.083333</td>\n",
       "      <td>0.086667</td>\n",
       "      <td>0.000000</td>\n",
       "      <td>0.0</td>\n",
       "      <td>Nov</td>\n",
       "      <td>3</td>\n",
       "      <td>2</td>\n",
       "      <td>1</td>\n",
       "      <td>13</td>\n",
       "      <td>Returning_Visitor</td>\n",
       "      <td>True</td>\n",
       "      <td>False</td>\n",
       "    </tr>\n",
       "    <tr>\n",
       "      <th>12328</th>\n",
       "      <td>4</td>\n",
       "      <td>75.0</td>\n",
       "      <td>0</td>\n",
       "      <td>0.0</td>\n",
       "      <td>15</td>\n",
       "      <td>346.000000</td>\n",
       "      <td>0.000000</td>\n",
       "      <td>0.021053</td>\n",
       "      <td>0.000000</td>\n",
       "      <td>0.0</td>\n",
       "      <td>Nov</td>\n",
       "      <td>2</td>\n",
       "      <td>2</td>\n",
       "      <td>3</td>\n",
       "      <td>11</td>\n",
       "      <td>Returning_Visitor</td>\n",
       "      <td>False</td>\n",
       "      <td>False</td>\n",
       "    </tr>\n",
       "    <tr>\n",
       "      <th>12329</th>\n",
       "      <td>0</td>\n",
       "      <td>0.0</td>\n",
       "      <td>0</td>\n",
       "      <td>0.0</td>\n",
       "      <td>3</td>\n",
       "      <td>21.250000</td>\n",
       "      <td>0.000000</td>\n",
       "      <td>0.066667</td>\n",
       "      <td>0.000000</td>\n",
       "      <td>0.0</td>\n",
       "      <td>Nov</td>\n",
       "      <td>3</td>\n",
       "      <td>2</td>\n",
       "      <td>1</td>\n",
       "      <td>2</td>\n",
       "      <td>New_Visitor</td>\n",
       "      <td>True</td>\n",
       "      <td>False</td>\n",
       "    </tr>\n",
       "  </tbody>\n",
       "</table>\n",
       "</div>"
      ],
      "text/plain": [
       "       Administrative  Administrative_Duration  Informational  \\\n",
       "12325               3                    145.0              0   \n",
       "12326               0                      0.0              0   \n",
       "12327               0                      0.0              0   \n",
       "12328               4                     75.0              0   \n",
       "12329               0                      0.0              0   \n",
       "\n",
       "       Informational_Duration  ProductRelated  ProductRelated_Duration  \\\n",
       "12325                     0.0              53              1783.791667   \n",
       "12326                     0.0               5               465.750000   \n",
       "12327                     0.0               6               184.250000   \n",
       "12328                     0.0              15               346.000000   \n",
       "12329                     0.0               3                21.250000   \n",
       "\n",
       "       BounceRates  ExitRates  PageValues  SpecialDay Month  OperatingSystems  \\\n",
       "12325     0.007143   0.029031   12.241717         0.0   Dec                 4   \n",
       "12326     0.000000   0.021333    0.000000         0.0   Nov                 3   \n",
       "12327     0.083333   0.086667    0.000000         0.0   Nov                 3   \n",
       "12328     0.000000   0.021053    0.000000         0.0   Nov                 2   \n",
       "12329     0.000000   0.066667    0.000000         0.0   Nov                 3   \n",
       "\n",
       "       Browser  Region  TrafficType        VisitorType  Weekend  Revenue  \n",
       "12325        6       1            1  Returning_Visitor     True    False  \n",
       "12326        2       1            8  Returning_Visitor     True    False  \n",
       "12327        2       1           13  Returning_Visitor     True    False  \n",
       "12328        2       3           11  Returning_Visitor    False    False  \n",
       "12329        2       1            2        New_Visitor     True    False  "
      ]
     },
     "execution_count": 6,
     "metadata": {},
     "output_type": "execute_result"
    }
   ],
   "source": [
    "data.tail()"
   ]
  },
  {
   "cell_type": "code",
   "execution_count": 7,
   "metadata": {},
   "outputs": [
    {
     "data": {
      "text/plain": [
       "Index(['Administrative', 'Administrative_Duration', 'Informational',\n",
       "       'Informational_Duration', 'ProductRelated', 'ProductRelated_Duration',\n",
       "       'BounceRates', 'ExitRates', 'PageValues', 'SpecialDay', 'Month',\n",
       "       'OperatingSystems', 'Browser', 'Region', 'TrafficType', 'VisitorType',\n",
       "       'Weekend', 'Revenue'],\n",
       "      dtype='object')"
      ]
     },
     "execution_count": 7,
     "metadata": {},
     "output_type": "execute_result"
    }
   ],
   "source": [
    "data.columns"
   ]
  },
  {
   "cell_type": "markdown",
   "metadata": {},
   "source": [
    "\n",
    "- \"Administrative\", \"Administrative Duration\", \"Informational\", \"Informational Duration\", \"Product Related\" and \"Product Related Duration\" - представляют собой информацию о количестве разных страниц, которые пользователь посетил за одну сессию, и общее время проведённое в соответствующей категории страниц\n",
    "- \"BounceRates\" - процент пользователей, которые выходят со страниц, не триггеря какие-либо другие запросы на сервер аналитики.\n",
    "- \"Exit Rate\" - отношение всех просмотров страницы к тем просмотрам, на которых сессия завершалась\n",
    "- \"Page Value\" - среднее значение для страницы, на которую заходил пользователь, перед совершением денежной транзакции\n",
    "- \"Special Day\" - определяет близость какого-либо \"особого\" дня(праздника) на момент сессии.\n",
    "Например, значение в данном столбце будет принимать ненулевое значение с 2-го по 12-ое февраля и нулевое в другое время, если конечно не близок какой-то другой праздник. Пикового же значения(1) оно достигнет 8-го февраля. При вычислении значения в этом столбце принималась во внимание динамика покупки/доставки при заказе через интернет магазин.\n",
    "- Кроме того датасет включает в себя также информацию об операционной системе, браузере, регионе, типе трафика, типе посетителя, булевой столбец \"Weekend\" указывающий на то является ли день сессии выходным, а также месяц посещения сайта магазина.\n",
    "\n",
    "\n",
    "Определяем столбцы с категорическими значениями"
   ]
  },
  {
   "cell_type": "code",
   "execution_count": 8,
   "metadata": {},
   "outputs": [],
   "source": [
    "data['Month'] = data['Month'].astype('category')"
   ]
  },
  {
   "cell_type": "code",
   "execution_count": 9,
   "metadata": {},
   "outputs": [
    {
     "data": {
      "text/plain": [
       "CategoricalDtype(categories=['Aug', 'Dec', 'Feb', 'Jul', 'June', 'Mar', 'May', 'Nov',\n",
       "                  'Oct', 'Sep'],\n",
       ", ordered=False)"
      ]
     },
     "execution_count": 9,
     "metadata": {},
     "output_type": "execute_result"
    }
   ],
   "source": [
    "data['Month'].dtype"
   ]
  },
  {
   "cell_type": "code",
   "execution_count": 10,
   "metadata": {},
   "outputs": [],
   "source": [
    "data['OperatingSystems'] = data['OperatingSystems'].astype('category')"
   ]
  },
  {
   "cell_type": "code",
   "execution_count": 11,
   "metadata": {},
   "outputs": [],
   "source": [
    "data['Browser'] = data['Browser'].astype('category')"
   ]
  },
  {
   "cell_type": "code",
   "execution_count": 12,
   "metadata": {},
   "outputs": [],
   "source": [
    "data['Region'] = data['Region'].astype('category')"
   ]
  },
  {
   "cell_type": "code",
   "execution_count": 13,
   "metadata": {},
   "outputs": [],
   "source": [
    "data['TrafficType'] = data['TrafficType'].astype('category')"
   ]
  },
  {
   "cell_type": "code",
   "execution_count": 14,
   "metadata": {},
   "outputs": [],
   "source": [
    "data['VisitorType'] = data['VisitorType'].astype('category')"
   ]
  },
  {
   "cell_type": "code",
   "execution_count": 15,
   "metadata": {},
   "outputs": [
    {
     "data": {
      "text/html": [
       "<div>\n",
       "<style scoped>\n",
       "    .dataframe tbody tr th:only-of-type {\n",
       "        vertical-align: middle;\n",
       "    }\n",
       "\n",
       "    .dataframe tbody tr th {\n",
       "        vertical-align: top;\n",
       "    }\n",
       "\n",
       "    .dataframe thead th {\n",
       "        text-align: right;\n",
       "    }\n",
       "</style>\n",
       "<table border=\"1\" class=\"dataframe\">\n",
       "  <thead>\n",
       "    <tr style=\"text-align: right;\">\n",
       "      <th></th>\n",
       "      <th>Administrative</th>\n",
       "      <th>Administrative_Duration</th>\n",
       "      <th>Informational</th>\n",
       "      <th>Informational_Duration</th>\n",
       "      <th>ProductRelated</th>\n",
       "      <th>ProductRelated_Duration</th>\n",
       "      <th>BounceRates</th>\n",
       "      <th>ExitRates</th>\n",
       "      <th>PageValues</th>\n",
       "      <th>SpecialDay</th>\n",
       "    </tr>\n",
       "  </thead>\n",
       "  <tbody>\n",
       "    <tr>\n",
       "      <th>count</th>\n",
       "      <td>12330.000000</td>\n",
       "      <td>12330.000000</td>\n",
       "      <td>12330.000000</td>\n",
       "      <td>12330.000000</td>\n",
       "      <td>12330.000000</td>\n",
       "      <td>12330.000000</td>\n",
       "      <td>12330.000000</td>\n",
       "      <td>12330.000000</td>\n",
       "      <td>12330.000000</td>\n",
       "      <td>12330.000000</td>\n",
       "    </tr>\n",
       "    <tr>\n",
       "      <th>mean</th>\n",
       "      <td>2.315166</td>\n",
       "      <td>80.818611</td>\n",
       "      <td>0.503569</td>\n",
       "      <td>34.472398</td>\n",
       "      <td>31.731468</td>\n",
       "      <td>1194.746220</td>\n",
       "      <td>0.022191</td>\n",
       "      <td>0.043073</td>\n",
       "      <td>5.889258</td>\n",
       "      <td>0.061427</td>\n",
       "    </tr>\n",
       "    <tr>\n",
       "      <th>std</th>\n",
       "      <td>3.321784</td>\n",
       "      <td>176.779107</td>\n",
       "      <td>1.270156</td>\n",
       "      <td>140.749294</td>\n",
       "      <td>44.475503</td>\n",
       "      <td>1913.669288</td>\n",
       "      <td>0.048488</td>\n",
       "      <td>0.048597</td>\n",
       "      <td>18.568437</td>\n",
       "      <td>0.198917</td>\n",
       "    </tr>\n",
       "    <tr>\n",
       "      <th>min</th>\n",
       "      <td>0.000000</td>\n",
       "      <td>0.000000</td>\n",
       "      <td>0.000000</td>\n",
       "      <td>0.000000</td>\n",
       "      <td>0.000000</td>\n",
       "      <td>0.000000</td>\n",
       "      <td>0.000000</td>\n",
       "      <td>0.000000</td>\n",
       "      <td>0.000000</td>\n",
       "      <td>0.000000</td>\n",
       "    </tr>\n",
       "    <tr>\n",
       "      <th>25%</th>\n",
       "      <td>0.000000</td>\n",
       "      <td>0.000000</td>\n",
       "      <td>0.000000</td>\n",
       "      <td>0.000000</td>\n",
       "      <td>7.000000</td>\n",
       "      <td>184.137500</td>\n",
       "      <td>0.000000</td>\n",
       "      <td>0.014286</td>\n",
       "      <td>0.000000</td>\n",
       "      <td>0.000000</td>\n",
       "    </tr>\n",
       "    <tr>\n",
       "      <th>50%</th>\n",
       "      <td>1.000000</td>\n",
       "      <td>7.500000</td>\n",
       "      <td>0.000000</td>\n",
       "      <td>0.000000</td>\n",
       "      <td>18.000000</td>\n",
       "      <td>598.936905</td>\n",
       "      <td>0.003112</td>\n",
       "      <td>0.025156</td>\n",
       "      <td>0.000000</td>\n",
       "      <td>0.000000</td>\n",
       "    </tr>\n",
       "    <tr>\n",
       "      <th>75%</th>\n",
       "      <td>4.000000</td>\n",
       "      <td>93.256250</td>\n",
       "      <td>0.000000</td>\n",
       "      <td>0.000000</td>\n",
       "      <td>38.000000</td>\n",
       "      <td>1464.157214</td>\n",
       "      <td>0.016813</td>\n",
       "      <td>0.050000</td>\n",
       "      <td>0.000000</td>\n",
       "      <td>0.000000</td>\n",
       "    </tr>\n",
       "    <tr>\n",
       "      <th>max</th>\n",
       "      <td>27.000000</td>\n",
       "      <td>3398.750000</td>\n",
       "      <td>24.000000</td>\n",
       "      <td>2549.375000</td>\n",
       "      <td>705.000000</td>\n",
       "      <td>63973.522230</td>\n",
       "      <td>0.200000</td>\n",
       "      <td>0.200000</td>\n",
       "      <td>361.763742</td>\n",
       "      <td>1.000000</td>\n",
       "    </tr>\n",
       "  </tbody>\n",
       "</table>\n",
       "</div>"
      ],
      "text/plain": [
       "       Administrative  Administrative_Duration  Informational  \\\n",
       "count    12330.000000             12330.000000   12330.000000   \n",
       "mean         2.315166                80.818611       0.503569   \n",
       "std          3.321784               176.779107       1.270156   \n",
       "min          0.000000                 0.000000       0.000000   \n",
       "25%          0.000000                 0.000000       0.000000   \n",
       "50%          1.000000                 7.500000       0.000000   \n",
       "75%          4.000000                93.256250       0.000000   \n",
       "max         27.000000              3398.750000      24.000000   \n",
       "\n",
       "       Informational_Duration  ProductRelated  ProductRelated_Duration  \\\n",
       "count            12330.000000    12330.000000             12330.000000   \n",
       "mean                34.472398       31.731468              1194.746220   \n",
       "std                140.749294       44.475503              1913.669288   \n",
       "min                  0.000000        0.000000                 0.000000   \n",
       "25%                  0.000000        7.000000               184.137500   \n",
       "50%                  0.000000       18.000000               598.936905   \n",
       "75%                  0.000000       38.000000              1464.157214   \n",
       "max               2549.375000      705.000000             63973.522230   \n",
       "\n",
       "        BounceRates     ExitRates    PageValues    SpecialDay  \n",
       "count  12330.000000  12330.000000  12330.000000  12330.000000  \n",
       "mean       0.022191      0.043073      5.889258      0.061427  \n",
       "std        0.048488      0.048597     18.568437      0.198917  \n",
       "min        0.000000      0.000000      0.000000      0.000000  \n",
       "25%        0.000000      0.014286      0.000000      0.000000  \n",
       "50%        0.003112      0.025156      0.000000      0.000000  \n",
       "75%        0.016813      0.050000      0.000000      0.000000  \n",
       "max        0.200000      0.200000    361.763742      1.000000  "
      ]
     },
     "execution_count": 15,
     "metadata": {},
     "output_type": "execute_result"
    }
   ],
   "source": [
    "data.describe()"
   ]
  },
  {
   "cell_type": "markdown",
   "metadata": {},
   "source": [
    "Визуализируем данные и боремся с выбросами\n"
   ]
  },
  {
   "cell_type": "code",
   "execution_count": 16,
   "metadata": {},
   "outputs": [
    {
     "data": {
      "image/png": "[encoded data removed]",
      "text/plain": [
       "<Figure size 432x288 with 1 Axes>"
      ]
     },
     "metadata": {
      "needs_background": "light"
     },
     "output_type": "display_data"
    }
   ],
   "source": [
    "plt.scatter(data['Administrative'],data['Administrative_Duration'])\n",
    "pass"
   ]
  },
  {
   "cell_type": "code",
   "execution_count": 17,
   "metadata": {},
   "outputs": [
    {
     "data": {
      "text/plain": [
       "0.005     0.000\n",
       "0.010     0.000\n",
       "0.050     0.000\n",
       "0.900     7.000\n",
       "0.950     9.000\n",
       "0.990    14.000\n",
       "0.995    16.000\n",
       "0.999    21.671\n",
       "Name: Administrative, dtype: float64"
      ]
     },
     "execution_count": 17,
     "metadata": {},
     "output_type": "execute_result"
    }
   ],
   "source": [
    "data['Administrative'].quantile([0.005,.01,.05,.9,.95,.99,.995,.999])"
   ]
  },
  {
   "cell_type": "code",
   "execution_count": 18,
   "metadata": {},
   "outputs": [
    {
     "data": {
      "text/plain": [
       "0.005       0.000000\n",
       "0.010       0.000000\n",
       "0.050       0.000000\n",
       "0.900     224.887500\n",
       "0.950     348.266369\n",
       "0.990     830.587041\n",
       "0.995    1174.343000\n",
       "0.999    1759.738667\n",
       "Name: Administrative_Duration, dtype: float64"
      ]
     },
     "execution_count": 18,
     "metadata": {},
     "output_type": "execute_result"
    }
   ],
   "source": [
    "data['Administrative_Duration'].quantile([0.005,.01,.05,.9,.95,.99,.995,.999])"
   ]
  },
  {
   "cell_type": "code",
   "execution_count": 19,
   "metadata": {},
   "outputs": [
    {
     "data": {
      "text/plain": [
       "(12221, 18)"
      ]
     },
     "execution_count": 19,
     "metadata": {},
     "output_type": "execute_result"
    }
   ],
   "source": [
    "data = data[(data['Administrative'] <= data['Administrative'].quantile(0.995))&(data['Administrative_Duration'] <= data['Administrative_Duration'].quantile(0.995))]\n",
    "data.shape"
   ]
  },
  {
   "cell_type": "code",
   "execution_count": 20,
   "metadata": {},
   "outputs": [
    {
     "data": {
      "image/png": "[encoded data removed]",
      "text/plain": [
       "<Figure size 432x288 with 1 Axes>"
      ]
     },
     "metadata": {
      "needs_background": "light"
     },
     "output_type": "display_data"
    }
   ],
   "source": [
    "plt.scatter(data['Administrative'],data['Administrative_Duration'], alpha=0.1)\n",
    "pass"
   ]
  },
  {
   "cell_type": "code",
   "execution_count": 21,
   "metadata": {},
   "outputs": [
    {
     "data": {
      "image/png": "[encoded data removed]",
      "text/plain": [
       "<Figure size 432x288 with 1 Axes>"
      ]
     },
     "metadata": {
      "needs_background": "light"
     },
     "output_type": "display_data"
    }
   ],
   "source": [
    "plt.scatter(data['Informational'],data['Informational_Duration'])\n",
    "pass"
   ]
  },
  {
   "cell_type": "code",
   "execution_count": 22,
   "metadata": {},
   "outputs": [
    {
     "data": {
      "text/plain": [
       "0.005     0.0\n",
       "0.010     0.0\n",
       "0.050     0.0\n",
       "0.900     2.0\n",
       "0.950     3.0\n",
       "0.990     6.0\n",
       "0.995     7.0\n",
       "0.999    10.0\n",
       "Name: Informational, dtype: float64"
      ]
     },
     "execution_count": 22,
     "metadata": {},
     "output_type": "execute_result"
    }
   ],
   "source": [
    "data['Informational'].quantile([0.005,.01,.05,.9,.95,.99,.995,.999])"
   ]
  },
  {
   "cell_type": "code",
   "execution_count": 23,
   "metadata": {},
   "outputs": [
    {
     "data": {
      "text/plain": [
       "0.005       0.000\n",
       "0.010       0.000\n",
       "0.050       0.000\n",
       "0.900      66.500\n",
       "0.950     187.000\n",
       "0.990     685.850\n",
       "0.995     943.175\n",
       "0.999    1648.480\n",
       "Name: Informational_Duration, dtype: float64"
      ]
     },
     "execution_count": 23,
     "metadata": {},
     "output_type": "execute_result"
    }
   ],
   "source": [
    "data['Informational_Duration'].quantile([0.005,.01,.05,.9,.95,.99,.995,.999])"
   ]
  },
  {
   "cell_type": "code",
   "execution_count": 24,
   "metadata": {},
   "outputs": [
    {
     "data": {
      "text/plain": [
       "(12128, 18)"
      ]
     },
     "execution_count": 24,
     "metadata": {},
     "output_type": "execute_result"
    }
   ],
   "source": [
    "data = data[(data['Informational'] <= data['Informational'].quantile(0.995))&(data['Informational_Duration'] <= data['Informational_Duration'].quantile(0.995))]\n",
    "data.shape"
   ]
  },
  {
   "cell_type": "code",
   "execution_count": 25,
   "metadata": {},
   "outputs": [
    {
     "data": {
      "image/png": "[encoded data removed]",
      "text/plain": [
       "<Figure size 432x288 with 1 Axes>"
      ]
     },
     "metadata": {
      "needs_background": "light"
     },
     "output_type": "display_data"
    }
   ],
   "source": [
    "plt.scatter(data['Informational'],data['Informational_Duration'], alpha = 0.1)\n",
    "pass"
   ]
  },
  {
   "cell_type": "code",
   "execution_count": 26,
   "metadata": {},
   "outputs": [
    {
     "data": {
      "image/png": "[encoded data removed]",
      "text/plain": [
       "<Figure size 432x288 with 1 Axes>"
      ]
     },
     "metadata": {
      "needs_background": "light"
     },
     "output_type": "display_data"
    }
   ],
   "source": [
    "plt.scatter(data['ProductRelated'],data['ProductRelated_Duration'])\n",
    "pass"
   ]
  },
  {
   "cell_type": "code",
   "execution_count": 27,
   "metadata": {},
   "outputs": [
    {
     "data": {
      "text/plain": [
       "0.005      1.000\n",
       "0.010      1.000\n",
       "0.050      1.000\n",
       "0.900     71.000\n",
       "0.950    104.000\n",
       "0.990    201.460\n",
       "0.995    256.730\n",
       "0.999    376.619\n",
       "Name: ProductRelated, dtype: float64"
      ]
     },
     "execution_count": 27,
     "metadata": {},
     "output_type": "execute_result"
    }
   ],
   "source": [
    "data['ProductRelated'].quantile([0.005,.01,.05,.9,.95,.99,.995,.999])"
   ]
  },
  {
   "cell_type": "code",
   "execution_count": 28,
   "metadata": {
    "scrolled": true
   },
   "outputs": [
    {
     "data": {
      "text/plain": [
       "0.005        0.000000\n",
       "0.010        0.000000\n",
       "0.050        0.000000\n",
       "0.900     2767.019520\n",
       "0.950     4111.139343\n",
       "0.990     8055.732677\n",
       "0.995     9971.374142\n",
       "0.999    13826.576182\n",
       "Name: ProductRelated_Duration, dtype: float64"
      ]
     },
     "execution_count": 28,
     "metadata": {},
     "output_type": "execute_result"
    }
   ],
   "source": [
    "data['ProductRelated_Duration'].quantile([0.005,.01,.05,.9,.95,.99,.995,.999])"
   ]
  },
  {
   "cell_type": "code",
   "execution_count": 29,
   "metadata": {},
   "outputs": [
    {
     "data": {
      "text/plain": [
       "(11995, 18)"
      ]
     },
     "execution_count": 29,
     "metadata": {},
     "output_type": "execute_result"
    }
   ],
   "source": [
    "data = data[(data['ProductRelated'] <= data['ProductRelated'].quantile(0.995))&(data['ProductRelated_Duration'] <= data['ProductRelated_Duration'].quantile(0.990))]\n",
    "data.shape"
   ]
  },
  {
   "cell_type": "code",
   "execution_count": 30,
   "metadata": {},
   "outputs": [
    {
     "data": {
      "image/png": "[encoded data removed]",
      "text/plain": [
       "<Figure size 432x288 with 1 Axes>"
      ]
     },
     "metadata": {
      "needs_background": "light"
     },
     "output_type": "display_data"
    }
   ],
   "source": [
    "plt.scatter(data['ProductRelated'],data['ProductRelated_Duration'], alpha = 0.1)\n",
    "pass"
   ]
  },
  {
   "cell_type": "code",
   "execution_count": 31,
   "metadata": {},
   "outputs": [
    {
     "data": {
      "text/html": [
       "<div>\n",
       "<style scoped>\n",
       "    .dataframe tbody tr th:only-of-type {\n",
       "        vertical-align: middle;\n",
       "    }\n",
       "\n",
       "    .dataframe tbody tr th {\n",
       "        vertical-align: top;\n",
       "    }\n",
       "\n",
       "    .dataframe thead th {\n",
       "        text-align: right;\n",
       "    }\n",
       "</style>\n",
       "<table border=\"1\" class=\"dataframe\">\n",
       "  <thead>\n",
       "    <tr style=\"text-align: right;\">\n",
       "      <th></th>\n",
       "      <th>Administrative</th>\n",
       "      <th>Administrative_Duration</th>\n",
       "      <th>Informational</th>\n",
       "      <th>Informational_Duration</th>\n",
       "      <th>ProductRelated</th>\n",
       "      <th>ProductRelated_Duration</th>\n",
       "      <th>BounceRates</th>\n",
       "      <th>ExitRates</th>\n",
       "      <th>PageValues</th>\n",
       "      <th>SpecialDay</th>\n",
       "    </tr>\n",
       "  </thead>\n",
       "  <tbody>\n",
       "    <tr>\n",
       "      <th>count</th>\n",
       "      <td>11995.000000</td>\n",
       "      <td>11995.000000</td>\n",
       "      <td>11995.000000</td>\n",
       "      <td>11995.000000</td>\n",
       "      <td>11995.000000</td>\n",
       "      <td>11995.000000</td>\n",
       "      <td>11995.000000</td>\n",
       "      <td>11995.000000</td>\n",
       "      <td>11995.000000</td>\n",
       "      <td>11995.000000</td>\n",
       "    </tr>\n",
       "    <tr>\n",
       "      <th>mean</th>\n",
       "      <td>2.142226</td>\n",
       "      <td>69.186376</td>\n",
       "      <td>0.424510</td>\n",
       "      <td>23.856789</td>\n",
       "      <td>28.020175</td>\n",
       "      <td>1026.990461</td>\n",
       "      <td>0.022627</td>\n",
       "      <td>0.043688</td>\n",
       "      <td>5.873612</td>\n",
       "      <td>0.062376</td>\n",
       "    </tr>\n",
       "    <tr>\n",
       "      <th>std</th>\n",
       "      <td>3.031013</td>\n",
       "      <td>130.415865</td>\n",
       "      <td>1.047814</td>\n",
       "      <td>87.545044</td>\n",
       "      <td>32.273814</td>\n",
       "      <td>1270.726753</td>\n",
       "      <td>0.049074</td>\n",
       "      <td>0.049076</td>\n",
       "      <td>18.636887</td>\n",
       "      <td>0.200319</td>\n",
       "    </tr>\n",
       "    <tr>\n",
       "      <th>min</th>\n",
       "      <td>0.000000</td>\n",
       "      <td>0.000000</td>\n",
       "      <td>0.000000</td>\n",
       "      <td>0.000000</td>\n",
       "      <td>0.000000</td>\n",
       "      <td>0.000000</td>\n",
       "      <td>0.000000</td>\n",
       "      <td>0.000000</td>\n",
       "      <td>0.000000</td>\n",
       "      <td>0.000000</td>\n",
       "    </tr>\n",
       "    <tr>\n",
       "      <th>25%</th>\n",
       "      <td>0.000000</td>\n",
       "      <td>0.000000</td>\n",
       "      <td>0.000000</td>\n",
       "      <td>0.000000</td>\n",
       "      <td>7.000000</td>\n",
       "      <td>177.816667</td>\n",
       "      <td>0.000000</td>\n",
       "      <td>0.014286</td>\n",
       "      <td>0.000000</td>\n",
       "      <td>0.000000</td>\n",
       "    </tr>\n",
       "    <tr>\n",
       "      <th>50%</th>\n",
       "      <td>1.000000</td>\n",
       "      <td>5.000000</td>\n",
       "      <td>0.000000</td>\n",
       "      <td>0.000000</td>\n",
       "      <td>17.000000</td>\n",
       "      <td>574.533333</td>\n",
       "      <td>0.002985</td>\n",
       "      <td>0.025763</td>\n",
       "      <td>0.000000</td>\n",
       "      <td>0.000000</td>\n",
       "    </tr>\n",
       "    <tr>\n",
       "      <th>75%</th>\n",
       "      <td>3.000000</td>\n",
       "      <td>86.591667</td>\n",
       "      <td>0.000000</td>\n",
       "      <td>0.000000</td>\n",
       "      <td>36.000000</td>\n",
       "      <td>1373.169979</td>\n",
       "      <td>0.017503</td>\n",
       "      <td>0.050000</td>\n",
       "      <td>0.000000</td>\n",
       "      <td>0.000000</td>\n",
       "    </tr>\n",
       "    <tr>\n",
       "      <th>max</th>\n",
       "      <td>16.000000</td>\n",
       "      <td>1172.000000</td>\n",
       "      <td>7.000000</td>\n",
       "      <td>929.000000</td>\n",
       "      <td>254.000000</td>\n",
       "      <td>8041.588870</td>\n",
       "      <td>0.200000</td>\n",
       "      <td>0.200000</td>\n",
       "      <td>361.763742</td>\n",
       "      <td>1.000000</td>\n",
       "    </tr>\n",
       "  </tbody>\n",
       "</table>\n",
       "</div>"
      ],
      "text/plain": [
       "       Administrative  Administrative_Duration  Informational  \\\n",
       "count    11995.000000             11995.000000   11995.000000   \n",
       "mean         2.142226                69.186376       0.424510   \n",
       "std          3.031013               130.415865       1.047814   \n",
       "min          0.000000                 0.000000       0.000000   \n",
       "25%          0.000000                 0.000000       0.000000   \n",
       "50%          1.000000                 5.000000       0.000000   \n",
       "75%          3.000000                86.591667       0.000000   \n",
       "max         16.000000              1172.000000       7.000000   \n",
       "\n",
       "       Informational_Duration  ProductRelated  ProductRelated_Duration  \\\n",
       "count            11995.000000    11995.000000             11995.000000   \n",
       "mean                23.856789       28.020175              1026.990461   \n",
       "std                 87.545044       32.273814              1270.726753   \n",
       "min                  0.000000        0.000000                 0.000000   \n",
       "25%                  0.000000        7.000000               177.816667   \n",
       "50%                  0.000000       17.000000               574.533333   \n",
       "75%                  0.000000       36.000000              1373.169979   \n",
       "max                929.000000      254.000000              8041.588870   \n",
       "\n",
       "        BounceRates     ExitRates    PageValues    SpecialDay  \n",
       "count  11995.000000  11995.000000  11995.000000  11995.000000  \n",
       "mean       0.022627      0.043688      5.873612      0.062376  \n",
       "std        0.049074      0.049076     18.636887      0.200319  \n",
       "min        0.000000      0.000000      0.000000      0.000000  \n",
       "25%        0.000000      0.014286      0.000000      0.000000  \n",
       "50%        0.002985      0.025763      0.000000      0.000000  \n",
       "75%        0.017503      0.050000      0.000000      0.000000  \n",
       "max        0.200000      0.200000    361.763742      1.000000  "
      ]
     },
     "execution_count": 31,
     "metadata": {},
     "output_type": "execute_result"
    }
   ],
   "source": [
    "data.describe()"
   ]
  },
  {
   "cell_type": "code",
   "execution_count": 32,
   "metadata": {},
   "outputs": [
    {
     "data": {
      "text/html": [
       "<div>\n",
       "<style scoped>\n",
       "    .dataframe tbody tr th:only-of-type {\n",
       "        vertical-align: middle;\n",
       "    }\n",
       "\n",
       "    .dataframe tbody tr th {\n",
       "        vertical-align: top;\n",
       "    }\n",
       "\n",
       "    .dataframe thead th {\n",
       "        text-align: right;\n",
       "    }\n",
       "</style>\n",
       "<table border=\"1\" class=\"dataframe\">\n",
       "  <thead>\n",
       "    <tr style=\"text-align: right;\">\n",
       "      <th></th>\n",
       "      <th>Month</th>\n",
       "      <th>OperatingSystems</th>\n",
       "      <th>Browser</th>\n",
       "      <th>Region</th>\n",
       "      <th>TrafficType</th>\n",
       "      <th>VisitorType</th>\n",
       "    </tr>\n",
       "  </thead>\n",
       "  <tbody>\n",
       "    <tr>\n",
       "      <th>count</th>\n",
       "      <td>11995</td>\n",
       "      <td>11995</td>\n",
       "      <td>11995</td>\n",
       "      <td>11995</td>\n",
       "      <td>11995</td>\n",
       "      <td>11995</td>\n",
       "    </tr>\n",
       "    <tr>\n",
       "      <th>unique</th>\n",
       "      <td>10</td>\n",
       "      <td>8</td>\n",
       "      <td>13</td>\n",
       "      <td>9</td>\n",
       "      <td>20</td>\n",
       "      <td>3</td>\n",
       "    </tr>\n",
       "    <tr>\n",
       "      <th>top</th>\n",
       "      <td>May</td>\n",
       "      <td>2</td>\n",
       "      <td>2</td>\n",
       "      <td>1</td>\n",
       "      <td>2</td>\n",
       "      <td>Returning_Visitor</td>\n",
       "    </tr>\n",
       "    <tr>\n",
       "      <th>freq</th>\n",
       "      <td>3316</td>\n",
       "      <td>6376</td>\n",
       "      <td>7705</td>\n",
       "      <td>4625</td>\n",
       "      <td>3755</td>\n",
       "      <td>10230</td>\n",
       "    </tr>\n",
       "  </tbody>\n",
       "</table>\n",
       "</div>"
      ],
      "text/plain": [
       "        Month  OperatingSystems  Browser  Region  TrafficType  \\\n",
       "count   11995             11995    11995   11995        11995   \n",
       "unique     10                 8       13       9           20   \n",
       "top       May                 2        2       1            2   \n",
       "freq     3316              6376     7705    4625         3755   \n",
       "\n",
       "              VisitorType  \n",
       "count               11995  \n",
       "unique                  3  \n",
       "top     Returning_Visitor  \n",
       "freq                10230  "
      ]
     },
     "execution_count": 32,
     "metadata": {},
     "output_type": "execute_result"
    }
   ],
   "source": [
    "data.describe(include=['category'])"
   ]
  },
  {
   "cell_type": "code",
   "execution_count": 33,
   "metadata": {},
   "outputs": [
    {
     "data": {
      "text/plain": [
       "<AxesSubplot:xlabel='Browser', ylabel='count'>"
      ]
     },
     "execution_count": 33,
     "metadata": {},
     "output_type": "execute_result"
    },
    {
     "data": {
      "image/png": "[encoded data removed]",
      "text/plain": [
       "<Figure size 432x288 with 1 Axes>"
      ]
     },
     "metadata": {
      "needs_background": "light"
     },
     "output_type": "display_data"
    }
   ],
   "source": [
    "sns.countplot(x='Browser', data = data)"
   ]
  },
  {
   "cell_type": "code",
   "execution_count": 34,
   "metadata": {},
   "outputs": [
    {
     "data": {
      "text/plain": [
       "<AxesSubplot:xlabel='Region', ylabel='count'>"
      ]
     },
     "execution_count": 34,
     "metadata": {},
     "output_type": "execute_result"
    },
    {
     "data": {
      "image/png": "[encoded data removed]",
      "text/plain": [
       "<Figure size 432x288 with 1 Axes>"
      ]
     },
     "metadata": {
      "needs_background": "light"
     },
     "output_type": "display_data"
    }
   ],
   "source": [
    "sns.countplot(x='Region', data = data)"
   ]
  },
  {
   "cell_type": "code",
   "execution_count": 35,
   "metadata": {},
   "outputs": [
    {
     "data": {
      "image/png": "[encoded data removed]",
      "text/plain": [
       "<Figure size 432x432 with 3 Axes>"
      ]
     },
     "metadata": {
      "needs_background": "light"
     },
     "output_type": "display_data"
    }
   ],
   "source": [
    "sns.jointplot(x = 'ProductRelated_Duration', y = 'PageValues', alpha = 0.1, data = data)\n",
    "pass"
   ]
  },
  {
   "cell_type": "markdown",
   "metadata": {},
   "source": [
    "Можно заметить, что эффект страниц на решение пользователя о покупке тем выше, чем меньше клиент проводит времени разглядывая страницы продукта. Скорее всего это связано с тем, что пользователи открывают страницу продукта не всегда с мыслью о сиюминутной покупке. Пользователи же которые уже знают о продукте меньше времени проводят на странице, принимая решение, а сразу оформляют заказ."
   ]
  },
  {
   "cell_type": "code",
   "execution_count": 36,
   "metadata": {},
   "outputs": [
    {
     "data": {
      "text/plain": [
       "<AxesSubplot:xlabel='Browser', ylabel='ProductRelated_Duration'>"
      ]
     },
     "execution_count": 36,
     "metadata": {},
     "output_type": "execute_result"
    },
    {
     "data": {
      "image/png": "[encoded data removed]",
      "text/plain": [
       "<Figure size 432x288 with 1 Axes>"
      ]
     },
     "metadata": {
      "needs_background": "light"
     },
     "output_type": "display_data"
    }
   ],
   "source": [
    "sns.violinplot(x = 'Browser', y = 'ProductRelated_Duration', data= data)"
   ]
  },
  {
   "cell_type": "markdown",
   "metadata": {},
   "source": [
    "Построим матрицу корреляции для количественных признаков"
   ]
  },
  {
   "cell_type": "code",
   "execution_count": 37,
   "metadata": {},
   "outputs": [
    {
     "data": {
      "text/html": [
       "<div>\n",
       "<style scoped>\n",
       "    .dataframe tbody tr th:only-of-type {\n",
       "        vertical-align: middle;\n",
       "    }\n",
       "\n",
       "    .dataframe tbody tr th {\n",
       "        vertical-align: top;\n",
       "    }\n",
       "\n",
       "    .dataframe thead th {\n",
       "        text-align: right;\n",
       "    }\n",
       "</style>\n",
       "<table border=\"1\" class=\"dataframe\">\n",
       "  <thead>\n",
       "    <tr style=\"text-align: right;\">\n",
       "      <th></th>\n",
       "      <th>Administrative</th>\n",
       "      <th>Administrative_Duration</th>\n",
       "      <th>Informational</th>\n",
       "      <th>Informational_Duration</th>\n",
       "      <th>ProductRelated</th>\n",
       "      <th>ProductRelated_Duration</th>\n",
       "      <th>BounceRates</th>\n",
       "      <th>ExitRates</th>\n",
       "      <th>PageValues</th>\n",
       "      <th>SpecialDay</th>\n",
       "      <th>Weekend</th>\n",
       "      <th>Revenue</th>\n",
       "    </tr>\n",
       "  </thead>\n",
       "  <tbody>\n",
       "    <tr>\n",
       "      <th>Administrative</th>\n",
       "      <td>1.000000</td>\n",
       "      <td>0.674541</td>\n",
       "      <td>0.337964</td>\n",
       "      <td>0.247191</td>\n",
       "      <td>0.407304</td>\n",
       "      <td>0.352597</td>\n",
       "      <td>-0.229777</td>\n",
       "      <td>-0.324658</td>\n",
       "      <td>0.100586</td>\n",
       "      <td>-0.097635</td>\n",
       "      <td>0.027679</td>\n",
       "      <td>0.134887</td>\n",
       "    </tr>\n",
       "    <tr>\n",
       "      <th>Administrative_Duration</th>\n",
       "      <td>0.674541</td>\n",
       "      <td>1.000000</td>\n",
       "      <td>0.268196</td>\n",
       "      <td>0.200580</td>\n",
       "      <td>0.267230</td>\n",
       "      <td>0.282320</td>\n",
       "      <td>-0.168822</td>\n",
       "      <td>-0.243810</td>\n",
       "      <td>0.079769</td>\n",
       "      <td>-0.081169</td>\n",
       "      <td>0.026100</td>\n",
       "      <td>0.105894</td>\n",
       "    </tr>\n",
       "    <tr>\n",
       "      <th>Informational</th>\n",
       "      <td>0.337964</td>\n",
       "      <td>0.268196</td>\n",
       "      <td>1.000000</td>\n",
       "      <td>0.648959</td>\n",
       "      <td>0.316445</td>\n",
       "      <td>0.312172</td>\n",
       "      <td>-0.119226</td>\n",
       "      <td>-0.167449</td>\n",
       "      <td>0.055307</td>\n",
       "      <td>-0.048309</td>\n",
       "      <td>0.036744</td>\n",
       "      <td>0.090590</td>\n",
       "    </tr>\n",
       "    <tr>\n",
       "      <th>Informational_Duration</th>\n",
       "      <td>0.247191</td>\n",
       "      <td>0.200580</td>\n",
       "      <td>0.648959</td>\n",
       "      <td>1.000000</td>\n",
       "      <td>0.225549</td>\n",
       "      <td>0.243902</td>\n",
       "      <td>-0.084624</td>\n",
       "      <td>-0.123075</td>\n",
       "      <td>0.049130</td>\n",
       "      <td>-0.036842</td>\n",
       "      <td>0.026556</td>\n",
       "      <td>0.088921</td>\n",
       "    </tr>\n",
       "    <tr>\n",
       "      <th>ProductRelated</th>\n",
       "      <td>0.407304</td>\n",
       "      <td>0.267230</td>\n",
       "      <td>0.316445</td>\n",
       "      <td>0.225549</td>\n",
       "      <td>1.000000</td>\n",
       "      <td>0.832809</td>\n",
       "      <td>-0.246055</td>\n",
       "      <td>-0.349161</td>\n",
       "      <td>0.084530</td>\n",
       "      <td>-0.013792</td>\n",
       "      <td>0.011056</td>\n",
       "      <td>0.166889</td>\n",
       "    </tr>\n",
       "    <tr>\n",
       "      <th>ProductRelated_Duration</th>\n",
       "      <td>0.352597</td>\n",
       "      <td>0.282320</td>\n",
       "      <td>0.312172</td>\n",
       "      <td>0.243902</td>\n",
       "      <td>0.832809</td>\n",
       "      <td>1.000000</td>\n",
       "      <td>-0.237105</td>\n",
       "      <td>-0.321895</td>\n",
       "      <td>0.089946</td>\n",
       "      <td>-0.030352</td>\n",
       "      <td>0.003754</td>\n",
       "      <td>0.178777</td>\n",
       "    </tr>\n",
       "    <tr>\n",
       "      <th>BounceRates</th>\n",
       "      <td>-0.229777</td>\n",
       "      <td>-0.168822</td>\n",
       "      <td>-0.119226</td>\n",
       "      <td>-0.084624</td>\n",
       "      <td>-0.246055</td>\n",
       "      <td>-0.237105</td>\n",
       "      <td>1.000000</td>\n",
       "      <td>0.913331</td>\n",
       "      <td>-0.120114</td>\n",
       "      <td>0.071928</td>\n",
       "      <td>-0.046480</td>\n",
       "      <td>-0.150631</td>\n",
       "    </tr>\n",
       "    <tr>\n",
       "      <th>ExitRates</th>\n",
       "      <td>-0.324658</td>\n",
       "      <td>-0.243810</td>\n",
       "      <td>-0.167449</td>\n",
       "      <td>-0.123075</td>\n",
       "      <td>-0.349161</td>\n",
       "      <td>-0.321895</td>\n",
       "      <td>0.913331</td>\n",
       "      <td>1.000000</td>\n",
       "      <td>-0.175737</td>\n",
       "      <td>0.101331</td>\n",
       "      <td>-0.061889</td>\n",
       "      <td>-0.206972</td>\n",
       "    </tr>\n",
       "    <tr>\n",
       "      <th>PageValues</th>\n",
       "      <td>0.100586</td>\n",
       "      <td>0.079769</td>\n",
       "      <td>0.055307</td>\n",
       "      <td>0.049130</td>\n",
       "      <td>0.084530</td>\n",
       "      <td>0.089946</td>\n",
       "      <td>-0.120114</td>\n",
       "      <td>-0.175737</td>\n",
       "      <td>1.000000</td>\n",
       "      <td>-0.063729</td>\n",
       "      <td>0.010765</td>\n",
       "      <td>0.504790</td>\n",
       "    </tr>\n",
       "    <tr>\n",
       "      <th>SpecialDay</th>\n",
       "      <td>-0.097635</td>\n",
       "      <td>-0.081169</td>\n",
       "      <td>-0.048309</td>\n",
       "      <td>-0.036842</td>\n",
       "      <td>-0.013792</td>\n",
       "      <td>-0.030352</td>\n",
       "      <td>0.071928</td>\n",
       "      <td>0.101331</td>\n",
       "      <td>-0.063729</td>\n",
       "      <td>1.000000</td>\n",
       "      <td>-0.016378</td>\n",
       "      <td>-0.081135</td>\n",
       "    </tr>\n",
       "    <tr>\n",
       "      <th>Weekend</th>\n",
       "      <td>0.027679</td>\n",
       "      <td>0.026100</td>\n",
       "      <td>0.036744</td>\n",
       "      <td>0.026556</td>\n",
       "      <td>0.011056</td>\n",
       "      <td>0.003754</td>\n",
       "      <td>-0.046480</td>\n",
       "      <td>-0.061889</td>\n",
       "      <td>0.010765</td>\n",
       "      <td>-0.016378</td>\n",
       "      <td>1.000000</td>\n",
       "      <td>0.032035</td>\n",
       "    </tr>\n",
       "    <tr>\n",
       "      <th>Revenue</th>\n",
       "      <td>0.134887</td>\n",
       "      <td>0.105894</td>\n",
       "      <td>0.090590</td>\n",
       "      <td>0.088921</td>\n",
       "      <td>0.166889</td>\n",
       "      <td>0.178777</td>\n",
       "      <td>-0.150631</td>\n",
       "      <td>-0.206972</td>\n",
       "      <td>0.504790</td>\n",
       "      <td>-0.081135</td>\n",
       "      <td>0.032035</td>\n",
       "      <td>1.000000</td>\n",
       "    </tr>\n",
       "  </tbody>\n",
       "</table>\n",
       "</div>"
      ],
      "text/plain": [
       "                         Administrative  Administrative_Duration  \\\n",
       "Administrative                 1.000000                 0.674541   \n",
       "Administrative_Duration        0.674541                 1.000000   \n",
       "Informational                  0.337964                 0.268196   \n",
       "Informational_Duration         0.247191                 0.200580   \n",
       "ProductRelated                 0.407304                 0.267230   \n",
       "ProductRelated_Duration        0.352597                 0.282320   \n",
       "BounceRates                   -0.229777                -0.168822   \n",
       "ExitRates                     -0.324658                -0.243810   \n",
       "PageValues                     0.100586                 0.079769   \n",
       "SpecialDay                    -0.097635                -0.081169   \n",
       "Weekend                        0.027679                 0.026100   \n",
       "Revenue                        0.134887                 0.105894   \n",
       "\n",
       "                         Informational  Informational_Duration  \\\n",
       "Administrative                0.337964                0.247191   \n",
       "Administrative_Duration       0.268196                0.200580   \n",
       "Informational                 1.000000                0.648959   \n",
       "Informational_Duration        0.648959                1.000000   \n",
       "ProductRelated                0.316445                0.225549   \n",
       "ProductRelated_Duration       0.312172                0.243902   \n",
       "BounceRates                  -0.119226               -0.084624   \n",
       "ExitRates                    -0.167449               -0.123075   \n",
       "PageValues                    0.055307                0.049130   \n",
       "SpecialDay                   -0.048309               -0.036842   \n",
       "Weekend                       0.036744                0.026556   \n",
       "Revenue                       0.090590                0.088921   \n",
       "\n",
       "                         ProductRelated  ProductRelated_Duration  BounceRates  \\\n",
       "Administrative                 0.407304                 0.352597    -0.229777   \n",
       "Administrative_Duration        0.267230                 0.282320    -0.168822   \n",
       "Informational                  0.316445                 0.312172    -0.119226   \n",
       "Informational_Duration         0.225549                 0.243902    -0.084624   \n",
       "ProductRelated                 1.000000                 0.832809    -0.246055   \n",
       "ProductRelated_Duration        0.832809                 1.000000    -0.237105   \n",
       "BounceRates                   -0.246055                -0.237105     1.000000   \n",
       "ExitRates                     -0.349161                -0.321895     0.913331   \n",
       "PageValues                     0.084530                 0.089946    -0.120114   \n",
       "SpecialDay                    -0.013792                -0.030352     0.071928   \n",
       "Weekend                        0.011056                 0.003754    -0.046480   \n",
       "Revenue                        0.166889                 0.178777    -0.150631   \n",
       "\n",
       "                         ExitRates  PageValues  SpecialDay   Weekend   Revenue  \n",
       "Administrative           -0.324658    0.100586   -0.097635  0.027679  0.134887  \n",
       "Administrative_Duration  -0.243810    0.079769   -0.081169  0.026100  0.105894  \n",
       "Informational            -0.167449    0.055307   -0.048309  0.036744  0.090590  \n",
       "Informational_Duration   -0.123075    0.049130   -0.036842  0.026556  0.088921  \n",
       "ProductRelated           -0.349161    0.084530   -0.013792  0.011056  0.166889  \n",
       "ProductRelated_Duration  -0.321895    0.089946   -0.030352  0.003754  0.178777  \n",
       "BounceRates               0.913331   -0.120114    0.071928 -0.046480 -0.150631  \n",
       "ExitRates                 1.000000   -0.175737    0.101331 -0.061889 -0.206972  \n",
       "PageValues               -0.175737    1.000000   -0.063729  0.010765  0.504790  \n",
       "SpecialDay                0.101331   -0.063729    1.000000 -0.016378 -0.081135  \n",
       "Weekend                  -0.061889    0.010765   -0.016378  1.000000  0.032035  \n",
       "Revenue                  -0.206972    0.504790   -0.081135  0.032035  1.000000  "
      ]
     },
     "execution_count": 37,
     "metadata": {},
     "output_type": "execute_result"
    }
   ],
   "source": [
    "corr_mattr = data.corr()\n",
    "corr_mattr"
   ]
  },
  {
   "cell_type": "markdown",
   "metadata": {},
   "source": [
    "Удобно воспользоваться визуальным образом данной матрицы. Чем светлее ячейка, тем больше по абсолютной величине коэффициент корреляции:"
   ]
  },
  {
   "cell_type": "code",
   "execution_count": 38,
   "metadata": {},
   "outputs": [
    {
     "data": {
      "text/plain": [
       "<AxesSubplot:>"
      ]
     },
     "execution_count": 38,
     "metadata": {},
     "output_type": "execute_result"
    },
    {
     "data": {
      "image/png": "[encoded data removed]",
      "text/plain": [
       "<Figure size 432x288 with 2 Axes>"
      ]
     },
     "metadata": {
      "needs_background": "light"
     },
     "output_type": "display_data"
    }
   ],
   "source": [
    "sns.heatmap(corr_mattr, square = True, vmin = -1, vmax = 1, cmap = 'coolwarm')"
   ]
  },
  {
   "cell_type": "markdown",
   "metadata": {},
   "source": [
    "Очевидна корреляция между парами \"Administrative\" - \"Administrative_Duration\", \"Informational\" - \"Informational_Duration\", \"Product Related\" - \"Product Related Duration\". Также высокий коэффициент корреляции наблюдается между пользователями сразу же покидающими сайт магазина и прокликавшими пару страниц. Видно что эти значения совсем не коррелируют с \"PageValue\", которые в свою очередь напрямую влияют на денежные транзакции в онлайн магазине."
   ]
  },
  {
   "cell_type": "code",
   "execution_count": 39,
   "metadata": {},
   "outputs": [
    {
     "data": {
      "text/plain": [
       "'category'"
      ]
     },
     "execution_count": 39,
     "metadata": {},
     "output_type": "execute_result"
    }
   ],
   "source": [
    "data['Browser'].dtype.name"
   ]
  },
  {
   "cell_type": "code",
   "execution_count": 40,
   "metadata": {},
   "outputs": [
    {
     "data": {
      "text/plain": [
       "'float64'"
      ]
     },
     "execution_count": 40,
     "metadata": {},
     "output_type": "execute_result"
    }
   ],
   "source": [
    "data['Administrative_Duration'].dtype.name"
   ]
  },
  {
   "cell_type": "code",
   "execution_count": 41,
   "metadata": {},
   "outputs": [
    {
     "data": {
      "text/plain": [
       "'int64'"
      ]
     },
     "execution_count": 41,
     "metadata": {},
     "output_type": "execute_result"
    }
   ],
   "source": [
    "data['Administrative'].dtype.name"
   ]
  },
  {
   "cell_type": "code",
   "execution_count": 42,
   "metadata": {},
   "outputs": [
    {
     "data": {
      "text/plain": [
       "'float64'"
      ]
     },
     "execution_count": 42,
     "metadata": {},
     "output_type": "execute_result"
    }
   ],
   "source": [
    "data['BounceRates'].dtype.name"
   ]
  },
  {
   "cell_type": "code",
   "execution_count": 43,
   "metadata": {},
   "outputs": [
    {
     "data": {
      "text/plain": [
       "'bool'"
      ]
     },
     "execution_count": 43,
     "metadata": {},
     "output_type": "execute_result"
    }
   ],
   "source": [
    "data['Revenue'].dtype.name"
   ]
  },
  {
   "cell_type": "code",
   "execution_count": 44,
   "metadata": {
    "scrolled": true
   },
   "outputs": [
    {
     "name": "stdout",
     "output_type": "stream",
     "text": [
      "['Month', 'OperatingSystems', 'Browser', 'Region', 'TrafficType', 'VisitorType', 'Weekend', 'Revenue']\n",
      "['Administrative', 'Administrative_Duration', 'Informational', 'Informational_Duration', 'ProductRelated', 'ProductRelated_Duration', 'BounceRates', 'ExitRates', 'PageValues', 'SpecialDay']\n"
     ]
    }
   ],
   "source": [
    "categorical_columns = [c for c in data.columns if ((data[c].dtype.name == 'category') | (data[c].dtype.name == 'bool'))]\n",
    "numerical_columns   = [c for c in data.columns if ((data[c].dtype.name != 'category') & (data[c].dtype.name != 'bool'))]\n",
    "print(categorical_columns)\n",
    "print(numerical_columns)"
   ]
  },
  {
   "cell_type": "markdown",
   "metadata": {},
   "source": [
    "Пропусков в датасете не наблюдается"
   ]
  },
  {
   "cell_type": "code",
   "execution_count": 45,
   "metadata": {},
   "outputs": [
    {
     "data": {
      "text/plain": [
       "Administrative             0\n",
       "Administrative_Duration    0\n",
       "Informational              0\n",
       "Informational_Duration     0\n",
       "ProductRelated             0\n",
       "ProductRelated_Duration    0\n",
       "BounceRates                0\n",
       "ExitRates                  0\n",
       "PageValues                 0\n",
       "SpecialDay                 0\n",
       "Month                      0\n",
       "OperatingSystems           0\n",
       "Browser                    0\n",
       "Region                     0\n",
       "TrafficType                0\n",
       "VisitorType                0\n",
       "Weekend                    0\n",
       "Revenue                    0\n",
       "dtype: int64"
      ]
     },
     "execution_count": 45,
     "metadata": {},
     "output_type": "execute_result"
    }
   ],
   "source": [
    "data.isna().sum()"
   ]
  },
  {
   "cell_type": "code",
   "execution_count": 46,
   "metadata": {},
   "outputs": [
    {
     "data": {
      "text/html": [
       "<div>\n",
       "<style scoped>\n",
       "    .dataframe tbody tr th:only-of-type {\n",
       "        vertical-align: middle;\n",
       "    }\n",
       "\n",
       "    .dataframe tbody tr th {\n",
       "        vertical-align: top;\n",
       "    }\n",
       "\n",
       "    .dataframe thead th {\n",
       "        text-align: right;\n",
       "    }\n",
       "</style>\n",
       "<table border=\"1\" class=\"dataframe\">\n",
       "  <thead>\n",
       "    <tr style=\"text-align: right;\">\n",
       "      <th></th>\n",
       "      <th>Month</th>\n",
       "      <th>OperatingSystems</th>\n",
       "      <th>Browser</th>\n",
       "      <th>Region</th>\n",
       "      <th>TrafficType</th>\n",
       "      <th>VisitorType</th>\n",
       "    </tr>\n",
       "  </thead>\n",
       "  <tbody>\n",
       "    <tr>\n",
       "      <th>count</th>\n",
       "      <td>11995</td>\n",
       "      <td>11995</td>\n",
       "      <td>11995</td>\n",
       "      <td>11995</td>\n",
       "      <td>11995</td>\n",
       "      <td>11995</td>\n",
       "    </tr>\n",
       "    <tr>\n",
       "      <th>unique</th>\n",
       "      <td>10</td>\n",
       "      <td>8</td>\n",
       "      <td>13</td>\n",
       "      <td>9</td>\n",
       "      <td>20</td>\n",
       "      <td>3</td>\n",
       "    </tr>\n",
       "    <tr>\n",
       "      <th>top</th>\n",
       "      <td>May</td>\n",
       "      <td>2</td>\n",
       "      <td>2</td>\n",
       "      <td>1</td>\n",
       "      <td>2</td>\n",
       "      <td>Returning_Visitor</td>\n",
       "    </tr>\n",
       "    <tr>\n",
       "      <th>freq</th>\n",
       "      <td>3316</td>\n",
       "      <td>6376</td>\n",
       "      <td>7705</td>\n",
       "      <td>4625</td>\n",
       "      <td>3755</td>\n",
       "      <td>10230</td>\n",
       "    </tr>\n",
       "  </tbody>\n",
       "</table>\n",
       "</div>"
      ],
      "text/plain": [
       "        Month  OperatingSystems  Browser  Region  TrafficType  \\\n",
       "count   11995             11995    11995   11995        11995   \n",
       "unique     10                 8       13       9           20   \n",
       "top       May                 2        2       1            2   \n",
       "freq     3316              6376     7705    4625         3755   \n",
       "\n",
       "              VisitorType  \n",
       "count               11995  \n",
       "unique                  3  \n",
       "top     Returning_Visitor  \n",
       "freq                10230  "
      ]
     },
     "execution_count": 46,
     "metadata": {},
     "output_type": "execute_result"
    }
   ],
   "source": [
    "data.describe(include=['category'])"
   ]
  },
  {
   "cell_type": "markdown",
   "metadata": {},
   "source": [
    "Категориальные признаки следует разбить на множество бинарных признаков"
   ]
  },
  {
   "cell_type": "code",
   "execution_count": 47,
   "metadata": {},
   "outputs": [
    {
     "name": "stdout",
     "output_type": "stream",
     "text": [
      "['Weekend', 'Revenue'] ['Month', 'OperatingSystems', 'Browser', 'Region', 'TrafficType', 'VisitorType']\n"
     ]
    }
   ],
   "source": [
    "binary_columns    = [c for c in categorical_columns if data.describe(include=['category','bool'])[c]['unique'] == 2]\n",
    "nonbinary_columns = [c for c in categorical_columns if data.describe(include=['category','bool'])[c]['unique'] > 2]\n",
    "print(binary_columns, nonbinary_columns)"
   ]
  },
  {
   "cell_type": "code",
   "execution_count": 48,
   "metadata": {},
   "outputs": [
    {
     "data": {
      "text/plain": [
       "array([False,  True])"
      ]
     },
     "execution_count": 48,
     "metadata": {},
     "output_type": "execute_result"
    }
   ],
   "source": [
    "data['Weekend'].unique()"
   ]
  },
  {
   "cell_type": "code",
   "execution_count": 49,
   "metadata": {},
   "outputs": [
    {
     "data": {
      "text/plain": [
       "'bool'"
      ]
     },
     "execution_count": 49,
     "metadata": {},
     "output_type": "execute_result"
    }
   ],
   "source": [
    "data['Weekend'].dtype.name"
   ]
  },
  {
   "cell_type": "code",
   "execution_count": 50,
   "metadata": {},
   "outputs": [
    {
     "data": {
      "text/plain": [
       "['Feb', 'Mar', 'May', 'Oct', 'June', 'Jul', 'Aug', 'Nov', 'Sep', 'Dec']\n",
       "Categories (10, object): ['Aug', 'Dec', 'Feb', 'Jul', ..., 'May', 'Nov', 'Oct', 'Sep']"
      ]
     },
     "execution_count": 50,
     "metadata": {},
     "output_type": "execute_result"
    }
   ],
   "source": [
    "data['Month'].unique()"
   ]
  },
  {
   "cell_type": "code",
   "execution_count": 51,
   "metadata": {},
   "outputs": [
    {
     "name": "stdout",
     "output_type": "stream",
     "text": [
      "Index(['Month_Aug', 'Month_Dec', 'Month_Feb', 'Month_Jul', 'Month_June',\n",
      "       'Month_Mar', 'Month_May', 'Month_Nov', 'Month_Oct', 'Month_Sep',\n",
      "       'OperatingSystems_1', 'OperatingSystems_2', 'OperatingSystems_3',\n",
      "       'OperatingSystems_4', 'OperatingSystems_5', 'OperatingSystems_6',\n",
      "       'OperatingSystems_7', 'OperatingSystems_8', 'Browser_1', 'Browser_2',\n",
      "       'Browser_3', 'Browser_4', 'Browser_5', 'Browser_6', 'Browser_7',\n",
      "       'Browser_8', 'Browser_9', 'Browser_10', 'Browser_11', 'Browser_12',\n",
      "       'Browser_13', 'Region_1', 'Region_2', 'Region_3', 'Region_4',\n",
      "       'Region_5', 'Region_6', 'Region_7', 'Region_8', 'Region_9',\n",
      "       'TrafficType_1', 'TrafficType_2', 'TrafficType_3', 'TrafficType_4',\n",
      "       'TrafficType_5', 'TrafficType_6', 'TrafficType_7', 'TrafficType_8',\n",
      "       'TrafficType_9', 'TrafficType_10', 'TrafficType_11', 'TrafficType_12',\n",
      "       'TrafficType_13', 'TrafficType_14', 'TrafficType_15', 'TrafficType_16',\n",
      "       'TrafficType_17', 'TrafficType_18', 'TrafficType_19', 'TrafficType_20',\n",
      "       'VisitorType_New_Visitor', 'VisitorType_Other',\n",
      "       'VisitorType_Returning_Visitor'],\n",
      "      dtype='object')\n"
     ]
    }
   ],
   "source": [
    "data_nonbinary = pd.get_dummies(data[nonbinary_columns])\n",
    "print(data_nonbinary.columns)"
   ]
  },
  {
   "cell_type": "code",
   "execution_count": 52,
   "metadata": {},
   "outputs": [
    {
     "data": {
      "text/plain": [
       "63"
      ]
     },
     "execution_count": 52,
     "metadata": {},
     "output_type": "execute_result"
    }
   ],
   "source": [
    "len(data_nonbinary.columns)"
   ]
  },
  {
   "cell_type": "markdown",
   "metadata": {},
   "source": [
    "Многие алгоритмы машинного обучения чувствительны к масштабированию данных. К таким алгоритмам, например, относится метод ближайших соседей, машина опорных векторов и др.\n",
    "\n",
    "В этом случае количественные признаки полезно нормализовать. Каждый количественный признак приведем к нулевому среднему и единичному среднеквадратичному отклонению."
   ]
  },
  {
   "cell_type": "code",
   "execution_count": 53,
   "metadata": {},
   "outputs": [
    {
     "data": {
      "text/html": [
       "<div>\n",
       "<style scoped>\n",
       "    .dataframe tbody tr th:only-of-type {\n",
       "        vertical-align: middle;\n",
       "    }\n",
       "\n",
       "    .dataframe tbody tr th {\n",
       "        vertical-align: top;\n",
       "    }\n",
       "\n",
       "    .dataframe thead th {\n",
       "        text-align: right;\n",
       "    }\n",
       "</style>\n",
       "<table border=\"1\" class=\"dataframe\">\n",
       "  <thead>\n",
       "    <tr style=\"text-align: right;\">\n",
       "      <th></th>\n",
       "      <th>Administrative</th>\n",
       "      <th>Administrative_Duration</th>\n",
       "      <th>Informational</th>\n",
       "      <th>Informational_Duration</th>\n",
       "      <th>ProductRelated</th>\n",
       "      <th>ProductRelated_Duration</th>\n",
       "      <th>BounceRates</th>\n",
       "      <th>ExitRates</th>\n",
       "      <th>PageValues</th>\n",
       "      <th>SpecialDay</th>\n",
       "    </tr>\n",
       "  </thead>\n",
       "  <tbody>\n",
       "    <tr>\n",
       "      <th>count</th>\n",
       "      <td>11995.000000</td>\n",
       "      <td>11995.000000</td>\n",
       "      <td>11995.000000</td>\n",
       "      <td>11995.000000</td>\n",
       "      <td>11995.000000</td>\n",
       "      <td>11995.000000</td>\n",
       "      <td>11995.000000</td>\n",
       "      <td>11995.000000</td>\n",
       "      <td>11995.000000</td>\n",
       "      <td>11995.000000</td>\n",
       "    </tr>\n",
       "    <tr>\n",
       "      <th>mean</th>\n",
       "      <td>2.142226</td>\n",
       "      <td>69.186376</td>\n",
       "      <td>0.424510</td>\n",
       "      <td>23.856789</td>\n",
       "      <td>28.020175</td>\n",
       "      <td>1026.990461</td>\n",
       "      <td>0.022627</td>\n",
       "      <td>0.043688</td>\n",
       "      <td>5.873612</td>\n",
       "      <td>0.062376</td>\n",
       "    </tr>\n",
       "    <tr>\n",
       "      <th>std</th>\n",
       "      <td>3.031013</td>\n",
       "      <td>130.415865</td>\n",
       "      <td>1.047814</td>\n",
       "      <td>87.545044</td>\n",
       "      <td>32.273814</td>\n",
       "      <td>1270.726753</td>\n",
       "      <td>0.049074</td>\n",
       "      <td>0.049076</td>\n",
       "      <td>18.636887</td>\n",
       "      <td>0.200319</td>\n",
       "    </tr>\n",
       "    <tr>\n",
       "      <th>min</th>\n",
       "      <td>0.000000</td>\n",
       "      <td>0.000000</td>\n",
       "      <td>0.000000</td>\n",
       "      <td>0.000000</td>\n",
       "      <td>0.000000</td>\n",
       "      <td>0.000000</td>\n",
       "      <td>0.000000</td>\n",
       "      <td>0.000000</td>\n",
       "      <td>0.000000</td>\n",
       "      <td>0.000000</td>\n",
       "    </tr>\n",
       "    <tr>\n",
       "      <th>25%</th>\n",
       "      <td>0.000000</td>\n",
       "      <td>0.000000</td>\n",
       "      <td>0.000000</td>\n",
       "      <td>0.000000</td>\n",
       "      <td>7.000000</td>\n",
       "      <td>177.816667</td>\n",
       "      <td>0.000000</td>\n",
       "      <td>0.014286</td>\n",
       "      <td>0.000000</td>\n",
       "      <td>0.000000</td>\n",
       "    </tr>\n",
       "    <tr>\n",
       "      <th>50%</th>\n",
       "      <td>1.000000</td>\n",
       "      <td>5.000000</td>\n",
       "      <td>0.000000</td>\n",
       "      <td>0.000000</td>\n",
       "      <td>17.000000</td>\n",
       "      <td>574.533333</td>\n",
       "      <td>0.002985</td>\n",
       "      <td>0.025763</td>\n",
       "      <td>0.000000</td>\n",
       "      <td>0.000000</td>\n",
       "    </tr>\n",
       "    <tr>\n",
       "      <th>75%</th>\n",
       "      <td>3.000000</td>\n",
       "      <td>86.591667</td>\n",
       "      <td>0.000000</td>\n",
       "      <td>0.000000</td>\n",
       "      <td>36.000000</td>\n",
       "      <td>1373.169979</td>\n",
       "      <td>0.017503</td>\n",
       "      <td>0.050000</td>\n",
       "      <td>0.000000</td>\n",
       "      <td>0.000000</td>\n",
       "    </tr>\n",
       "    <tr>\n",
       "      <th>max</th>\n",
       "      <td>16.000000</td>\n",
       "      <td>1172.000000</td>\n",
       "      <td>7.000000</td>\n",
       "      <td>929.000000</td>\n",
       "      <td>254.000000</td>\n",
       "      <td>8041.588870</td>\n",
       "      <td>0.200000</td>\n",
       "      <td>0.200000</td>\n",
       "      <td>361.763742</td>\n",
       "      <td>1.000000</td>\n",
       "    </tr>\n",
       "  </tbody>\n",
       "</table>\n",
       "</div>"
      ],
      "text/plain": [
       "       Administrative  Administrative_Duration  Informational  \\\n",
       "count    11995.000000             11995.000000   11995.000000   \n",
       "mean         2.142226                69.186376       0.424510   \n",
       "std          3.031013               130.415865       1.047814   \n",
       "min          0.000000                 0.000000       0.000000   \n",
       "25%          0.000000                 0.000000       0.000000   \n",
       "50%          1.000000                 5.000000       0.000000   \n",
       "75%          3.000000                86.591667       0.000000   \n",
       "max         16.000000              1172.000000       7.000000   \n",
       "\n",
       "       Informational_Duration  ProductRelated  ProductRelated_Duration  \\\n",
       "count            11995.000000    11995.000000             11995.000000   \n",
       "mean                23.856789       28.020175              1026.990461   \n",
       "std                 87.545044       32.273814              1270.726753   \n",
       "min                  0.000000        0.000000                 0.000000   \n",
       "25%                  0.000000        7.000000               177.816667   \n",
       "50%                  0.000000       17.000000               574.533333   \n",
       "75%                  0.000000       36.000000              1373.169979   \n",
       "max                929.000000      254.000000              8041.588870   \n",
       "\n",
       "        BounceRates     ExitRates    PageValues    SpecialDay  \n",
       "count  11995.000000  11995.000000  11995.000000  11995.000000  \n",
       "mean       0.022627      0.043688      5.873612      0.062376  \n",
       "std        0.049074      0.049076     18.636887      0.200319  \n",
       "min        0.000000      0.000000      0.000000      0.000000  \n",
       "25%        0.000000      0.014286      0.000000      0.000000  \n",
       "50%        0.002985      0.025763      0.000000      0.000000  \n",
       "75%        0.017503      0.050000      0.000000      0.000000  \n",
       "max        0.200000      0.200000    361.763742      1.000000  "
      ]
     },
     "execution_count": 53,
     "metadata": {},
     "output_type": "execute_result"
    }
   ],
   "source": [
    "data_numerical = data[numerical_columns]\n",
    "data_numerical.describe()"
   ]
  },
  {
   "cell_type": "code",
   "execution_count": 54,
   "metadata": {},
   "outputs": [
    {
     "data": {
      "text/html": [
       "<div>\n",
       "<style scoped>\n",
       "    .dataframe tbody tr th:only-of-type {\n",
       "        vertical-align: middle;\n",
       "    }\n",
       "\n",
       "    .dataframe tbody tr th {\n",
       "        vertical-align: top;\n",
       "    }\n",
       "\n",
       "    .dataframe thead th {\n",
       "        text-align: right;\n",
       "    }\n",
       "</style>\n",
       "<table border=\"1\" class=\"dataframe\">\n",
       "  <thead>\n",
       "    <tr style=\"text-align: right;\">\n",
       "      <th></th>\n",
       "      <th>Administrative</th>\n",
       "      <th>Administrative_Duration</th>\n",
       "      <th>Informational</th>\n",
       "      <th>Informational_Duration</th>\n",
       "      <th>ProductRelated</th>\n",
       "      <th>ProductRelated_Duration</th>\n",
       "      <th>BounceRates</th>\n",
       "      <th>ExitRates</th>\n",
       "      <th>PageValues</th>\n",
       "      <th>SpecialDay</th>\n",
       "    </tr>\n",
       "  </thead>\n",
       "  <tbody>\n",
       "    <tr>\n",
       "      <th>count</th>\n",
       "      <td>1.199500e+04</td>\n",
       "      <td>1.199500e+04</td>\n",
       "      <td>1.199500e+04</td>\n",
       "      <td>1.199500e+04</td>\n",
       "      <td>1.199500e+04</td>\n",
       "      <td>1.199500e+04</td>\n",
       "      <td>1.199500e+04</td>\n",
       "      <td>1.199500e+04</td>\n",
       "      <td>1.199500e+04</td>\n",
       "      <td>1.199500e+04</td>\n",
       "    </tr>\n",
       "    <tr>\n",
       "      <th>mean</th>\n",
       "      <td>3.392738e-15</td>\n",
       "      <td>-2.426923e-15</td>\n",
       "      <td>5.054426e-15</td>\n",
       "      <td>-2.155758e-15</td>\n",
       "      <td>-3.556509e-16</td>\n",
       "      <td>-2.023966e-15</td>\n",
       "      <td>9.051728e-15</td>\n",
       "      <td>1.611932e-14</td>\n",
       "      <td>-9.684070e-16</td>\n",
       "      <td>1.661900e-14</td>\n",
       "    </tr>\n",
       "    <tr>\n",
       "      <th>std</th>\n",
       "      <td>1.000000e+00</td>\n",
       "      <td>1.000000e+00</td>\n",
       "      <td>1.000000e+00</td>\n",
       "      <td>1.000000e+00</td>\n",
       "      <td>1.000000e+00</td>\n",
       "      <td>1.000000e+00</td>\n",
       "      <td>1.000000e+00</td>\n",
       "      <td>1.000000e+00</td>\n",
       "      <td>1.000000e+00</td>\n",
       "      <td>1.000000e+00</td>\n",
       "    </tr>\n",
       "    <tr>\n",
       "      <th>min</th>\n",
       "      <td>-7.067689e-01</td>\n",
       "      <td>-5.305058e-01</td>\n",
       "      <td>-4.051387e-01</td>\n",
       "      <td>-2.725087e-01</td>\n",
       "      <td>-8.682015e-01</td>\n",
       "      <td>-8.081914e-01</td>\n",
       "      <td>-4.610828e-01</td>\n",
       "      <td>-8.901963e-01</td>\n",
       "      <td>-3.151606e-01</td>\n",
       "      <td>-3.113837e-01</td>\n",
       "    </tr>\n",
       "    <tr>\n",
       "      <th>25%</th>\n",
       "      <td>-7.067689e-01</td>\n",
       "      <td>-5.305058e-01</td>\n",
       "      <td>-4.051387e-01</td>\n",
       "      <td>-2.725087e-01</td>\n",
       "      <td>-6.513074e-01</td>\n",
       "      <td>-6.682584e-01</td>\n",
       "      <td>-4.610828e-01</td>\n",
       "      <td>-5.991043e-01</td>\n",
       "      <td>-3.151606e-01</td>\n",
       "      <td>-3.113837e-01</td>\n",
       "    </tr>\n",
       "    <tr>\n",
       "      <th>50%</th>\n",
       "      <td>-3.768463e-01</td>\n",
       "      <td>-4.921669e-01</td>\n",
       "      <td>-4.051387e-01</td>\n",
       "      <td>-2.725087e-01</td>\n",
       "      <td>-3.414587e-01</td>\n",
       "      <td>-3.560617e-01</td>\n",
       "      <td>-4.002543e-01</td>\n",
       "      <td>-3.652383e-01</td>\n",
       "      <td>-3.151606e-01</td>\n",
       "      <td>-3.113837e-01</td>\n",
       "    </tr>\n",
       "    <tr>\n",
       "      <th>75%</th>\n",
       "      <td>2.829991e-01</td>\n",
       "      <td>1.334599e-01</td>\n",
       "      <td>-4.051387e-01</td>\n",
       "      <td>-2.725087e-01</td>\n",
       "      <td>2.472539e-01</td>\n",
       "      <td>2.724264e-01</td>\n",
       "      <td>-1.044098e-01</td>\n",
       "      <td>1.286258e-01</td>\n",
       "      <td>-3.151606e-01</td>\n",
       "      <td>-3.113837e-01</td>\n",
       "    </tr>\n",
       "    <tr>\n",
       "      <th>max</th>\n",
       "      <td>4.571994e+00</td>\n",
       "      <td>8.456131e+00</td>\n",
       "      <td>6.275433e+00</td>\n",
       "      <td>1.033917e+01</td>\n",
       "      <td>7.001956e+00</td>\n",
       "      <td>5.520147e+00</td>\n",
       "      <td>3.614424e+00</td>\n",
       "      <td>3.185092e+00</td>\n",
       "      <td>1.909601e+01</td>\n",
       "      <td>4.680661e+00</td>\n",
       "    </tr>\n",
       "  </tbody>\n",
       "</table>\n",
       "</div>"
      ],
      "text/plain": [
       "       Administrative  Administrative_Duration  Informational  \\\n",
       "count    1.199500e+04             1.199500e+04   1.199500e+04   \n",
       "mean     3.392738e-15            -2.426923e-15   5.054426e-15   \n",
       "std      1.000000e+00             1.000000e+00   1.000000e+00   \n",
       "min     -7.067689e-01            -5.305058e-01  -4.051387e-01   \n",
       "25%     -7.067689e-01            -5.305058e-01  -4.051387e-01   \n",
       "50%     -3.768463e-01            -4.921669e-01  -4.051387e-01   \n",
       "75%      2.829991e-01             1.334599e-01  -4.051387e-01   \n",
       "max      4.571994e+00             8.456131e+00   6.275433e+00   \n",
       "\n",
       "       Informational_Duration  ProductRelated  ProductRelated_Duration  \\\n",
       "count            1.199500e+04    1.199500e+04             1.199500e+04   \n",
       "mean            -2.155758e-15   -3.556509e-16            -2.023966e-15   \n",
       "std              1.000000e+00    1.000000e+00             1.000000e+00   \n",
       "min             -2.725087e-01   -8.682015e-01            -8.081914e-01   \n",
       "25%             -2.725087e-01   -6.513074e-01            -6.682584e-01   \n",
       "50%             -2.725087e-01   -3.414587e-01            -3.560617e-01   \n",
       "75%             -2.725087e-01    2.472539e-01             2.724264e-01   \n",
       "max              1.033917e+01    7.001956e+00             5.520147e+00   \n",
       "\n",
       "        BounceRates     ExitRates    PageValues    SpecialDay  \n",
       "count  1.199500e+04  1.199500e+04  1.199500e+04  1.199500e+04  \n",
       "mean   9.051728e-15  1.611932e-14 -9.684070e-16  1.661900e-14  \n",
       "std    1.000000e+00  1.000000e+00  1.000000e+00  1.000000e+00  \n",
       "min   -4.610828e-01 -8.901963e-01 -3.151606e-01 -3.113837e-01  \n",
       "25%   -4.610828e-01 -5.991043e-01 -3.151606e-01 -3.113837e-01  \n",
       "50%   -4.002543e-01 -3.652383e-01 -3.151606e-01 -3.113837e-01  \n",
       "75%   -1.044098e-01  1.286258e-01 -3.151606e-01 -3.113837e-01  \n",
       "max    3.614424e+00  3.185092e+00  1.909601e+01  4.680661e+00  "
      ]
     },
     "execution_count": 54,
     "metadata": {},
     "output_type": "execute_result"
    }
   ],
   "source": [
    "data_numerical = (data_numerical - data_numerical.mean(axis = 0))/data_numerical.std(axis = 0)\n",
    "data_numerical.describe()"
   ]
  },
  {
   "cell_type": "markdown",
   "metadata": {},
   "source": [
    "Собираем всё воедино"
   ]
  },
  {
   "cell_type": "code",
   "execution_count": 55,
   "metadata": {},
   "outputs": [
    {
     "name": "stdout",
     "output_type": "stream",
     "text": [
      "(11995, 75)\n"
     ]
    }
   ],
   "source": [
    "data = pd.concat((data_numerical, data_nonbinary, data[binary_columns]), axis = 1)\n",
    "print(data.shape)"
   ]
  },
  {
   "cell_type": "code",
   "execution_count": 56,
   "metadata": {},
   "outputs": [
    {
     "data": {
      "text/html": [
       "<div>\n",
       "<style scoped>\n",
       "    .dataframe tbody tr th:only-of-type {\n",
       "        vertical-align: middle;\n",
       "    }\n",
       "\n",
       "    .dataframe tbody tr th {\n",
       "        vertical-align: top;\n",
       "    }\n",
       "\n",
       "    .dataframe thead th {\n",
       "        text-align: right;\n",
       "    }\n",
       "</style>\n",
       "<table border=\"1\" class=\"dataframe\">\n",
       "  <thead>\n",
       "    <tr style=\"text-align: right;\">\n",
       "      <th></th>\n",
       "      <th>Administrative</th>\n",
       "      <th>Administrative_Duration</th>\n",
       "      <th>Informational</th>\n",
       "      <th>Informational_Duration</th>\n",
       "      <th>ProductRelated</th>\n",
       "      <th>ProductRelated_Duration</th>\n",
       "      <th>BounceRates</th>\n",
       "      <th>ExitRates</th>\n",
       "      <th>PageValues</th>\n",
       "      <th>SpecialDay</th>\n",
       "      <th>...</th>\n",
       "      <th>TrafficType_14</th>\n",
       "      <th>TrafficType_15</th>\n",
       "      <th>TrafficType_16</th>\n",
       "      <th>TrafficType_17</th>\n",
       "      <th>TrafficType_18</th>\n",
       "      <th>TrafficType_19</th>\n",
       "      <th>TrafficType_20</th>\n",
       "      <th>VisitorType_New_Visitor</th>\n",
       "      <th>VisitorType_Other</th>\n",
       "      <th>VisitorType_Returning_Visitor</th>\n",
       "    </tr>\n",
       "  </thead>\n",
       "  <tbody>\n",
       "    <tr>\n",
       "      <th>count</th>\n",
       "      <td>1.199500e+04</td>\n",
       "      <td>1.199500e+04</td>\n",
       "      <td>1.199500e+04</td>\n",
       "      <td>1.199500e+04</td>\n",
       "      <td>1.199500e+04</td>\n",
       "      <td>1.199500e+04</td>\n",
       "      <td>1.199500e+04</td>\n",
       "      <td>1.199500e+04</td>\n",
       "      <td>1.199500e+04</td>\n",
       "      <td>1.199500e+04</td>\n",
       "      <td>...</td>\n",
       "      <td>11995.000000</td>\n",
       "      <td>11995.000000</td>\n",
       "      <td>11995.000000</td>\n",
       "      <td>11995.000000</td>\n",
       "      <td>11995.000000</td>\n",
       "      <td>11995.000000</td>\n",
       "      <td>11995.000000</td>\n",
       "      <td>11995.000000</td>\n",
       "      <td>11995.000000</td>\n",
       "      <td>11995.000000</td>\n",
       "    </tr>\n",
       "    <tr>\n",
       "      <th>mean</th>\n",
       "      <td>3.392738e-15</td>\n",
       "      <td>-2.426923e-15</td>\n",
       "      <td>5.054426e-15</td>\n",
       "      <td>-2.155758e-15</td>\n",
       "      <td>-3.556509e-16</td>\n",
       "      <td>-2.023966e-15</td>\n",
       "      <td>9.051728e-15</td>\n",
       "      <td>1.611932e-14</td>\n",
       "      <td>-9.684070e-16</td>\n",
       "      <td>1.661900e-14</td>\n",
       "      <td>...</td>\n",
       "      <td>0.001000</td>\n",
       "      <td>0.003168</td>\n",
       "      <td>0.000250</td>\n",
       "      <td>0.000083</td>\n",
       "      <td>0.000834</td>\n",
       "      <td>0.001334</td>\n",
       "      <td>0.016173</td>\n",
       "      <td>0.140225</td>\n",
       "      <td>0.006920</td>\n",
       "      <td>0.852855</td>\n",
       "    </tr>\n",
       "    <tr>\n",
       "      <th>std</th>\n",
       "      <td>1.000000e+00</td>\n",
       "      <td>1.000000e+00</td>\n",
       "      <td>1.000000e+00</td>\n",
       "      <td>1.000000e+00</td>\n",
       "      <td>1.000000e+00</td>\n",
       "      <td>1.000000e+00</td>\n",
       "      <td>1.000000e+00</td>\n",
       "      <td>1.000000e+00</td>\n",
       "      <td>1.000000e+00</td>\n",
       "      <td>1.000000e+00</td>\n",
       "      <td>...</td>\n",
       "      <td>0.031615</td>\n",
       "      <td>0.056198</td>\n",
       "      <td>0.015813</td>\n",
       "      <td>0.009131</td>\n",
       "      <td>0.028863</td>\n",
       "      <td>0.036500</td>\n",
       "      <td>0.126147</td>\n",
       "      <td>0.347235</td>\n",
       "      <td>0.082899</td>\n",
       "      <td>0.354265</td>\n",
       "    </tr>\n",
       "    <tr>\n",
       "      <th>min</th>\n",
       "      <td>-7.067689e-01</td>\n",
       "      <td>-5.305058e-01</td>\n",
       "      <td>-4.051387e-01</td>\n",
       "      <td>-2.725087e-01</td>\n",
       "      <td>-8.682015e-01</td>\n",
       "      <td>-8.081914e-01</td>\n",
       "      <td>-4.610828e-01</td>\n",
       "      <td>-8.901963e-01</td>\n",
       "      <td>-3.151606e-01</td>\n",
       "      <td>-3.113837e-01</td>\n",
       "      <td>...</td>\n",
       "      <td>0.000000</td>\n",
       "      <td>0.000000</td>\n",
       "      <td>0.000000</td>\n",
       "      <td>0.000000</td>\n",
       "      <td>0.000000</td>\n",
       "      <td>0.000000</td>\n",
       "      <td>0.000000</td>\n",
       "      <td>0.000000</td>\n",
       "      <td>0.000000</td>\n",
       "      <td>0.000000</td>\n",
       "    </tr>\n",
       "    <tr>\n",
       "      <th>25%</th>\n",
       "      <td>-7.067689e-01</td>\n",
       "      <td>-5.305058e-01</td>\n",
       "      <td>-4.051387e-01</td>\n",
       "      <td>-2.725087e-01</td>\n",
       "      <td>-6.513074e-01</td>\n",
       "      <td>-6.682584e-01</td>\n",
       "      <td>-4.610828e-01</td>\n",
       "      <td>-5.991043e-01</td>\n",
       "      <td>-3.151606e-01</td>\n",
       "      <td>-3.113837e-01</td>\n",
       "      <td>...</td>\n",
       "      <td>0.000000</td>\n",
       "      <td>0.000000</td>\n",
       "      <td>0.000000</td>\n",
       "      <td>0.000000</td>\n",
       "      <td>0.000000</td>\n",
       "      <td>0.000000</td>\n",
       "      <td>0.000000</td>\n",
       "      <td>0.000000</td>\n",
       "      <td>0.000000</td>\n",
       "      <td>1.000000</td>\n",
       "    </tr>\n",
       "    <tr>\n",
       "      <th>50%</th>\n",
       "      <td>-3.768463e-01</td>\n",
       "      <td>-4.921669e-01</td>\n",
       "      <td>-4.051387e-01</td>\n",
       "      <td>-2.725087e-01</td>\n",
       "      <td>-3.414587e-01</td>\n",
       "      <td>-3.560617e-01</td>\n",
       "      <td>-4.002543e-01</td>\n",
       "      <td>-3.652383e-01</td>\n",
       "      <td>-3.151606e-01</td>\n",
       "      <td>-3.113837e-01</td>\n",
       "      <td>...</td>\n",
       "      <td>0.000000</td>\n",
       "      <td>0.000000</td>\n",
       "      <td>0.000000</td>\n",
       "      <td>0.000000</td>\n",
       "      <td>0.000000</td>\n",
       "      <td>0.000000</td>\n",
       "      <td>0.000000</td>\n",
       "      <td>0.000000</td>\n",
       "      <td>0.000000</td>\n",
       "      <td>1.000000</td>\n",
       "    </tr>\n",
       "    <tr>\n",
       "      <th>75%</th>\n",
       "      <td>2.829991e-01</td>\n",
       "      <td>1.334599e-01</td>\n",
       "      <td>-4.051387e-01</td>\n",
       "      <td>-2.725087e-01</td>\n",
       "      <td>2.472539e-01</td>\n",
       "      <td>2.724264e-01</td>\n",
       "      <td>-1.044098e-01</td>\n",
       "      <td>1.286258e-01</td>\n",
       "      <td>-3.151606e-01</td>\n",
       "      <td>-3.113837e-01</td>\n",
       "      <td>...</td>\n",
       "      <td>0.000000</td>\n",
       "      <td>0.000000</td>\n",
       "      <td>0.000000</td>\n",
       "      <td>0.000000</td>\n",
       "      <td>0.000000</td>\n",
       "      <td>0.000000</td>\n",
       "      <td>0.000000</td>\n",
       "      <td>0.000000</td>\n",
       "      <td>0.000000</td>\n",
       "      <td>1.000000</td>\n",
       "    </tr>\n",
       "    <tr>\n",
       "      <th>max</th>\n",
       "      <td>4.571994e+00</td>\n",
       "      <td>8.456131e+00</td>\n",
       "      <td>6.275433e+00</td>\n",
       "      <td>1.033917e+01</td>\n",
       "      <td>7.001956e+00</td>\n",
       "      <td>5.520147e+00</td>\n",
       "      <td>3.614424e+00</td>\n",
       "      <td>3.185092e+00</td>\n",
       "      <td>1.909601e+01</td>\n",
       "      <td>4.680661e+00</td>\n",
       "      <td>...</td>\n",
       "      <td>1.000000</td>\n",
       "      <td>1.000000</td>\n",
       "      <td>1.000000</td>\n",
       "      <td>1.000000</td>\n",
       "      <td>1.000000</td>\n",
       "      <td>1.000000</td>\n",
       "      <td>1.000000</td>\n",
       "      <td>1.000000</td>\n",
       "      <td>1.000000</td>\n",
       "      <td>1.000000</td>\n",
       "    </tr>\n",
       "  </tbody>\n",
       "</table>\n",
       "<p>8 rows × 73 columns</p>\n",
       "</div>"
      ],
      "text/plain": [
       "       Administrative  Administrative_Duration  Informational  \\\n",
       "count    1.199500e+04             1.199500e+04   1.199500e+04   \n",
       "mean     3.392738e-15            -2.426923e-15   5.054426e-15   \n",
       "std      1.000000e+00             1.000000e+00   1.000000e+00   \n",
       "min     -7.067689e-01            -5.305058e-01  -4.051387e-01   \n",
       "25%     -7.067689e-01            -5.305058e-01  -4.051387e-01   \n",
       "50%     -3.768463e-01            -4.921669e-01  -4.051387e-01   \n",
       "75%      2.829991e-01             1.334599e-01  -4.051387e-01   \n",
       "max      4.571994e+00             8.456131e+00   6.275433e+00   \n",
       "\n",
       "       Informational_Duration  ProductRelated  ProductRelated_Duration  \\\n",
       "count            1.199500e+04    1.199500e+04             1.199500e+04   \n",
       "mean            -2.155758e-15   -3.556509e-16            -2.023966e-15   \n",
       "std              1.000000e+00    1.000000e+00             1.000000e+00   \n",
       "min             -2.725087e-01   -8.682015e-01            -8.081914e-01   \n",
       "25%             -2.725087e-01   -6.513074e-01            -6.682584e-01   \n",
       "50%             -2.725087e-01   -3.414587e-01            -3.560617e-01   \n",
       "75%             -2.725087e-01    2.472539e-01             2.724264e-01   \n",
       "max              1.033917e+01    7.001956e+00             5.520147e+00   \n",
       "\n",
       "        BounceRates     ExitRates    PageValues    SpecialDay  ...  \\\n",
       "count  1.199500e+04  1.199500e+04  1.199500e+04  1.199500e+04  ...   \n",
       "mean   9.051728e-15  1.611932e-14 -9.684070e-16  1.661900e-14  ...   \n",
       "std    1.000000e+00  1.000000e+00  1.000000e+00  1.000000e+00  ...   \n",
       "min   -4.610828e-01 -8.901963e-01 -3.151606e-01 -3.113837e-01  ...   \n",
       "25%   -4.610828e-01 -5.991043e-01 -3.151606e-01 -3.113837e-01  ...   \n",
       "50%   -4.002543e-01 -3.652383e-01 -3.151606e-01 -3.113837e-01  ...   \n",
       "75%   -1.044098e-01  1.286258e-01 -3.151606e-01 -3.113837e-01  ...   \n",
       "max    3.614424e+00  3.185092e+00  1.909601e+01  4.680661e+00  ...   \n",
       "\n",
       "       TrafficType_14  TrafficType_15  TrafficType_16  TrafficType_17  \\\n",
       "count    11995.000000    11995.000000    11995.000000    11995.000000   \n",
       "mean         0.001000        0.003168        0.000250        0.000083   \n",
       "std          0.031615        0.056198        0.015813        0.009131   \n",
       "min          0.000000        0.000000        0.000000        0.000000   \n",
       "25%          0.000000        0.000000        0.000000        0.000000   \n",
       "50%          0.000000        0.000000        0.000000        0.000000   \n",
       "75%          0.000000        0.000000        0.000000        0.000000   \n",
       "max          1.000000        1.000000        1.000000        1.000000   \n",
       "\n",
       "       TrafficType_18  TrafficType_19  TrafficType_20  \\\n",
       "count    11995.000000    11995.000000    11995.000000   \n",
       "mean         0.000834        0.001334        0.016173   \n",
       "std          0.028863        0.036500        0.126147   \n",
       "min          0.000000        0.000000        0.000000   \n",
       "25%          0.000000        0.000000        0.000000   \n",
       "50%          0.000000        0.000000        0.000000   \n",
       "75%          0.000000        0.000000        0.000000   \n",
       "max          1.000000        1.000000        1.000000   \n",
       "\n",
       "       VisitorType_New_Visitor  VisitorType_Other  \\\n",
       "count             11995.000000       11995.000000   \n",
       "mean                  0.140225           0.006920   \n",
       "std                   0.347235           0.082899   \n",
       "min                   0.000000           0.000000   \n",
       "25%                   0.000000           0.000000   \n",
       "50%                   0.000000           0.000000   \n",
       "75%                   0.000000           0.000000   \n",
       "max                   1.000000           1.000000   \n",
       "\n",
       "       VisitorType_Returning_Visitor  \n",
       "count                   11995.000000  \n",
       "mean                        0.852855  \n",
       "std                         0.354265  \n",
       "min                         0.000000  \n",
       "25%                         1.000000  \n",
       "50%                         1.000000  \n",
       "75%                         1.000000  \n",
       "max                         1.000000  \n",
       "\n",
       "[8 rows x 73 columns]"
      ]
     },
     "execution_count": 56,
     "metadata": {},
     "output_type": "execute_result"
    }
   ],
   "source": [
    "data.describe()"
   ]
  },
  {
   "cell_type": "markdown",
   "metadata": {},
   "source": [
    "Разбиваем данные на обучающую и тестовые выборки"
   ]
  },
  {
   "cell_type": "code",
   "execution_count": 57,
   "metadata": {},
   "outputs": [],
   "source": [
    "X = data.drop('Revenue', axis = 1)\n",
    "y = data['Revenue']\n",
    "feature_names = X.columns"
   ]
  },
  {
   "cell_type": "code",
   "execution_count": 58,
   "metadata": {},
   "outputs": [
    {
     "data": {
      "text/plain": [
       "pandas.core.indexes.base.Index"
      ]
     },
     "execution_count": 58,
     "metadata": {},
     "output_type": "execute_result"
    }
   ],
   "source": [
    "type(feature_names)"
   ]
  },
  {
   "cell_type": "code",
   "execution_count": 59,
   "metadata": {},
   "outputs": [
    {
     "data": {
      "text/plain": [
       "Index(['Administrative', 'Administrative_Duration', 'Informational',\n",
       "       'Informational_Duration', 'ProductRelated', 'ProductRelated_Duration',\n",
       "       'BounceRates', 'ExitRates', 'PageValues', 'SpecialDay', 'Month_Aug',\n",
       "       'Month_Dec', 'Month_Feb', 'Month_Jul', 'Month_June', 'Month_Mar',\n",
       "       'Month_May', 'Month_Nov', 'Month_Oct', 'Month_Sep',\n",
       "       'OperatingSystems_1', 'OperatingSystems_2', 'OperatingSystems_3',\n",
       "       'OperatingSystems_4', 'OperatingSystems_5', 'OperatingSystems_6',\n",
       "       'OperatingSystems_7', 'OperatingSystems_8', 'Browser_1', 'Browser_2',\n",
       "       'Browser_3', 'Browser_4', 'Browser_5', 'Browser_6', 'Browser_7',\n",
       "       'Browser_8', 'Browser_9', 'Browser_10', 'Browser_11', 'Browser_12',\n",
       "       'Browser_13', 'Region_1', 'Region_2', 'Region_3', 'Region_4',\n",
       "       'Region_5', 'Region_6', 'Region_7', 'Region_8', 'Region_9',\n",
       "       'TrafficType_1', 'TrafficType_2', 'TrafficType_3', 'TrafficType_4',\n",
       "       'TrafficType_5', 'TrafficType_6', 'TrafficType_7', 'TrafficType_8',\n",
       "       'TrafficType_9', 'TrafficType_10', 'TrafficType_11', 'TrafficType_12',\n",
       "       'TrafficType_13', 'TrafficType_14', 'TrafficType_15', 'TrafficType_16',\n",
       "       'TrafficType_17', 'TrafficType_18', 'TrafficType_19', 'TrafficType_20',\n",
       "       'VisitorType_New_Visitor', 'VisitorType_Other',\n",
       "       'VisitorType_Returning_Visitor', 'Weekend'],\n",
       "      dtype='object')"
      ]
     },
     "execution_count": 59,
     "metadata": {},
     "output_type": "execute_result"
    }
   ],
   "source": [
    "feature_names"
   ]
  },
  {
   "cell_type": "code",
   "execution_count": 60,
   "metadata": {},
   "outputs": [],
   "source": [
    "X = X.to_numpy()\n",
    "y = np.array(y.astype(int))"
   ]
  },
  {
   "cell_type": "code",
   "execution_count": 61,
   "metadata": {},
   "outputs": [
    {
     "data": {
      "text/plain": [
       "array([0, 0, 0, ..., 0, 0, 0])"
      ]
     },
     "execution_count": 61,
     "metadata": {},
     "output_type": "execute_result"
    }
   ],
   "source": [
    "y"
   ]
  },
  {
   "cell_type": "code",
   "execution_count": 62,
   "metadata": {},
   "outputs": [
    {
     "name": "stdout",
     "output_type": "stream",
     "text": [
      "(11995, 74)\n",
      "(11995,)\n"
     ]
    }
   ],
   "source": [
    "print(X.shape)\n",
    "print(y.shape)\n",
    "N, d = X.shape"
   ]
  },
  {
   "cell_type": "code",
   "execution_count": 63,
   "metadata": {},
   "outputs": [
    {
     "data": {
      "text/plain": [
       "numpy.ndarray"
      ]
     },
     "execution_count": 63,
     "metadata": {},
     "output_type": "execute_result"
    }
   ],
   "source": [
    "type(X)"
   ]
  },
  {
   "cell_type": "code",
   "execution_count": 64,
   "metadata": {},
   "outputs": [
    {
     "data": {
      "text/plain": [
       "numpy.ndarray"
      ]
     },
     "execution_count": 64,
     "metadata": {},
     "output_type": "execute_result"
    }
   ],
   "source": [
    "type(y)"
   ]
  },
  {
   "cell_type": "code",
   "execution_count": 65,
   "metadata": {},
   "outputs": [
    {
     "name": "stdout",
     "output_type": "stream",
     "text": [
      "8396 3599\n"
     ]
    }
   ],
   "source": [
    "from sklearn.model_selection import train_test_split\n",
    "X_train, X_test, y_train, y_test = train_test_split(X, y, test_size = 0.3, random_state = 42)\n",
    "\n",
    "N_train, _ = X_train.shape \n",
    "N_test,  _ = X_test.shape \n",
    "\n",
    "print(N_train, N_test)"
   ]
  },
  {
   "cell_type": "markdown",
   "metadata": {},
   "source": [
    "Сначала попробуем воспользоваться методом ближайших соседей"
   ]
  },
  {
   "cell_type": "code",
   "execution_count": 66,
   "metadata": {},
   "outputs": [
    {
     "data": {
      "text/plain": [
       "KNeighborsClassifier(n_neighbors=10)"
      ]
     },
     "execution_count": 66,
     "metadata": {},
     "output_type": "execute_result"
    }
   ],
   "source": [
    "from sklearn.neighbors import KNeighborsClassifier\n",
    "\n",
    "knn = KNeighborsClassifier(n_neighbors = 10)\n",
    "#knn.set_params(n_neighbors=10)\n",
    "knn.fit(X_train, y_train)"
   ]
  },
  {
   "cell_type": "code",
   "execution_count": 67,
   "metadata": {},
   "outputs": [],
   "source": [
    "y_test_predict = knn.predict(X_test)\n",
    "err_test  = np.mean(y_test  != y_test_predict)"
   ]
  },
  {
   "cell_type": "markdown",
   "metadata": {},
   "source": [
    "Получили достаточно значительный процент ошибок"
   ]
  },
  {
   "cell_type": "code",
   "execution_count": 68,
   "metadata": {},
   "outputs": [
    {
     "data": {
      "text/plain": [
       "0.12058905251458739"
      ]
     },
     "execution_count": 68,
     "metadata": {},
     "output_type": "execute_result"
    }
   ],
   "source": [
    "err_test"
   ]
  },
  {
   "cell_type": "code",
   "execution_count": 69,
   "metadata": {},
   "outputs": [
    {
     "name": "stdout",
     "output_type": "stream",
     "text": [
      "[[2999   41]\n",
      " [ 393  166]]\n"
     ]
    }
   ],
   "source": [
    "from sklearn.metrics import confusion_matrix\n",
    "print(confusion_matrix(y_test, y_test_predict))"
   ]
  },
  {
   "cell_type": "code",
   "execution_count": 70,
   "metadata": {},
   "outputs": [
    {
     "data": {
      "text/plain": [
       "array([[3, 0],\n",
       "       [1, 1]], dtype=int64)"
      ]
     },
     "execution_count": 70,
     "metadata": {},
     "output_type": "execute_result"
    }
   ],
   "source": [
    "confusion_matrix([0,1,0,1,0], [0,1,0,0,0])"
   ]
  },
  {
   "cell_type": "markdown",
   "metadata": {},
   "source": [
    "Попытаемся подобрать параметры, которые помогут нам увеличть точность предсказания."
   ]
  },
  {
   "cell_type": "code",
   "execution_count": 71,
   "metadata": {},
   "outputs": [
    {
     "name": "stdout",
     "output_type": "stream",
     "text": [
      "0.11636642261195307 20\n"
     ]
    }
   ],
   "source": [
    "from sklearn.model_selection import GridSearchCV\n",
    "nnb = [1, 3, 5, 10, 15, 20, 25, 35, 45, 55]\n",
    "knn = KNeighborsClassifier()\n",
    "grid = GridSearchCV(knn, param_grid = {'n_neighbors': nnb}, cv=10)\n",
    "grid.fit(X_train, y_train)\n",
    "\n",
    "best_cv_err = 1 - grid.best_score_\n",
    "best_n_neighbors = grid.best_estimator_.n_neighbors\n",
    "print(best_cv_err, best_n_neighbors)"
   ]
  },
  {
   "cell_type": "markdown",
   "metadata": {},
   "source": [
    "Незначительное улучшение, меньше полупроцента. И всё же лучше, чем было."
   ]
  },
  {
   "cell_type": "code",
   "execution_count": 72,
   "metadata": {},
   "outputs": [
    {
     "data": {
      "text/plain": [
       "KNeighborsClassifier(n_neighbors=30)"
      ]
     },
     "execution_count": 72,
     "metadata": {},
     "output_type": "execute_result"
    }
   ],
   "source": [
    "knn = KNeighborsClassifier(n_neighbors = 30)\n",
    "knn.fit(X_train, y_train)"
   ]
  },
  {
   "cell_type": "code",
   "execution_count": 73,
   "metadata": {},
   "outputs": [],
   "source": [
    "y_test_predict = knn.predict(X_test)\n",
    "err_test  = np.mean(y_test  != y_test_predict)"
   ]
  },
  {
   "cell_type": "code",
   "execution_count": 74,
   "metadata": {},
   "outputs": [
    {
     "data": {
      "text/plain": [
       "0.1197554876354543"
      ]
     },
     "execution_count": 74,
     "metadata": {},
     "output_type": "execute_result"
    }
   ],
   "source": [
    "err_test"
   ]
  },
  {
   "cell_type": "code",
   "execution_count": 75,
   "metadata": {},
   "outputs": [
    {
     "name": "stdout",
     "output_type": "stream",
     "text": [
      "0.11350643163411148 0.12003334259516532\n"
     ]
    }
   ],
   "source": [
    "knn = KNeighborsClassifier(n_neighbors = best_n_neighbors).fit(X_train, y_train)\n",
    "\n",
    "err_train = np.mean(y_train != knn.predict(X_train))\n",
    "err_test  = np.mean(y_test  != knn.predict(X_test))\n",
    "\n",
    "print(err_train, err_test)"
   ]
  },
  {
   "cell_type": "markdown",
   "metadata": {},
   "source": [
    "Попробуем воспользоваться алгоритмом случайного леса"
   ]
  },
  {
   "cell_type": "code",
   "execution_count": 76,
   "metadata": {},
   "outputs": [],
   "source": [
    "from sklearn.ensemble import RandomForestClassifier\n",
    "clf=RandomForestClassifier(n_estimators=20)\n",
    "clf.fit(X_train,y_train)\n",
    "y_pred=clf.predict(X_test)\n",
    "err_test  = np.mean(y_test  != y_pred)"
   ]
  },
  {
   "cell_type": "code",
   "execution_count": 77,
   "metadata": {},
   "outputs": [
    {
     "data": {
      "text/plain": [
       "0.10530702973048069"
      ]
     },
     "execution_count": 77,
     "metadata": {},
     "output_type": "execute_result"
    }
   ],
   "source": [
    "err_test"
   ]
  },
  {
   "cell_type": "code",
   "execution_count": 78,
   "metadata": {},
   "outputs": [],
   "source": [
    "\n",
    "clf=RandomForestClassifier(n_estimators=50)\n",
    "clf.fit(X_train,y_train)\n",
    "y_pred=clf.predict(X_test)\n",
    "err_test  = np.mean(y_test  != y_pred)"
   ]
  },
  {
   "cell_type": "code",
   "execution_count": 79,
   "metadata": {},
   "outputs": [
    {
     "data": {
      "text/plain": [
       "0.09585996110030565"
      ]
     },
     "execution_count": 79,
     "metadata": {},
     "output_type": "execute_result"
    }
   ],
   "source": [
    "err_test"
   ]
  },
  {
   "cell_type": "code",
   "execution_count": 80,
   "metadata": {},
   "outputs": [],
   "source": [
    "\n",
    "clf=RandomForestClassifier(n_estimators=100)\n",
    "clf.fit(X_train,y_train)\n",
    "y_pred=clf.predict(X_test)\n",
    "err_test  = np.mean(y_test  != y_pred)"
   ]
  },
  {
   "cell_type": "code",
   "execution_count": 81,
   "metadata": {},
   "outputs": [
    {
     "data": {
      "text/plain": [
       "0.09891636565712698"
      ]
     },
     "execution_count": 81,
     "metadata": {},
     "output_type": "execute_result"
    }
   ],
   "source": [
    "err_test"
   ]
  },
  {
   "cell_type": "code",
   "execution_count": 82,
   "metadata": {},
   "outputs": [],
   "source": [
    "\n",
    "clf=RandomForestClassifier(n_estimators=500)\n",
    "clf.fit(X_train,y_train)\n",
    "y_pred=clf.predict(X_test)\n",
    "err_test  = np.mean(y_test  != y_pred)"
   ]
  },
  {
   "cell_type": "code",
   "execution_count": 83,
   "metadata": {},
   "outputs": [
    {
     "data": {
      "text/plain": [
       "0.09780494581828286"
      ]
     },
     "execution_count": 83,
     "metadata": {},
     "output_type": "execute_result"
    }
   ],
   "source": [
    "err_test"
   ]
  },
  {
   "cell_type": "markdown",
   "metadata": {},
   "source": [
    "Точность предсказаний улучшилась. Но используя алгоритм случайного леса, можно попробовать сделать точность ещё выше исключив малозначащие признаки, которые могут мешать с обучением."
   ]
  },
  {
   "cell_type": "code",
   "execution_count": 84,
   "metadata": {},
   "outputs": [
    {
     "data": {
      "text/plain": [
       "1.0"
      ]
     },
     "execution_count": 84,
     "metadata": {},
     "output_type": "execute_result"
    }
   ],
   "source": [
    "np.sum(clf.feature_importances_)"
   ]
  },
  {
   "cell_type": "code",
   "execution_count": 85,
   "metadata": {},
   "outputs": [
    {
     "name": "stdout",
     "output_type": "stream",
     "text": [
      "Feature ranking:\n",
      " 1. feature 'PageValues' (0.319357)\n",
      " 2. feature 'ProductRelated_Duration' (0.081016)\n",
      " 3. feature 'ExitRates' (0.079514)\n",
      " 4. feature 'ProductRelated' (0.070690)\n",
      " 5. feature 'Administrative_Duration' (0.054792)\n",
      " 6. feature 'BounceRates' (0.050784)\n",
      " 7. feature 'Administrative' (0.042596)\n",
      " 8. feature 'Informational_Duration' (0.025739)\n",
      " 9. feature 'Month_Nov' (0.020369)\n",
      "10. feature 'Informational' (0.017684)\n",
      "11. feature 'Weekend' (0.011484)\n",
      "12. feature 'Region_1' (0.011209)\n",
      "13. feature 'TrafficType_2' (0.010379)\n",
      "14. feature 'Region_3' (0.009163)\n",
      "15. feature 'VisitorType_New_Visitor' (0.008963)\n",
      "16. feature 'OperatingSystems_2' (0.008923)\n",
      "17. feature 'Browser_2' (0.008894)\n",
      "18. feature 'VisitorType_Returning_Visitor' (0.008470)\n",
      "19. feature 'Month_May' (0.007086)\n",
      "20. feature 'TrafficType_1' (0.007050)\n",
      "21. feature 'Region_4' (0.006933)\n",
      "22. feature 'OperatingSystems_3' (0.006891)\n",
      "23. feature 'Month_Dec' (0.006625)\n",
      "24. feature 'OperatingSystems_1' (0.006458)\n",
      "25. feature 'Region_2' (0.006290)\n",
      "26. feature 'Browser_1' (0.006183)\n",
      "27. feature 'TrafficType_3' (0.005959)\n",
      "28. feature 'Month_Mar' (0.005495)\n",
      "29. feature 'Region_6' (0.005425)\n",
      "30. feature 'Browser_4' (0.005424)\n",
      "31. feature 'Region_7' (0.005101)\n",
      "32. feature 'TrafficType_8' (0.005040)\n",
      "33. feature 'TrafficType_4' (0.005037)\n",
      "34. feature 'Region_9' (0.004652)\n",
      "35. feature 'Month_Oct' (0.004635)\n",
      "36. feature 'Month_Sep' (0.004545)\n",
      "37. feature 'SpecialDay' (0.004285)\n",
      "38. feature 'Month_Jul' (0.004057)\n",
      "39. feature 'TrafficType_10' (0.003989)\n",
      "40. feature 'Month_Aug' (0.003958)\n",
      "41. feature 'Browser_5' (0.003672)\n",
      "42. feature 'Region_8' (0.003444)\n",
      "43. feature 'Region_5' (0.003042)\n",
      "44. feature 'OperatingSystems_4' (0.003028)\n",
      "45. feature 'TrafficType_5' (0.002907)\n",
      "46. feature 'TrafficType_11' (0.002805)\n",
      "47. feature 'TrafficType_6' (0.002734)\n",
      "48. feature 'TrafficType_13' (0.002684)\n",
      "49. feature 'TrafficType_20' (0.002588)\n",
      "50. feature 'Month_June' (0.001981)\n",
      "51. feature 'Browser_10' (0.001553)\n",
      "52. feature 'Browser_6' (0.001545)\n",
      "53. feature 'Browser_7' (0.000841)\n",
      "54. feature 'OperatingSystems_8' (0.000829)\n",
      "55. feature 'Browser_8' (0.000810)\n",
      "56. feature 'TrafficType_7' (0.000785)\n",
      "57. feature 'Browser_12' (0.000687)\n",
      "58. feature 'VisitorType_Other' (0.000431)\n",
      "59. feature 'Browser_3' (0.000405)\n",
      "60. feature 'TrafficType_16' (0.000403)\n",
      "61. feature 'OperatingSystems_6' (0.000390)\n",
      "62. feature 'Browser_13' (0.000380)\n",
      "63. feature 'TrafficType_9' (0.000328)\n",
      "64. feature 'Month_Feb' (0.000323)\n",
      "65. feature 'OperatingSystems_5' (0.000098)\n",
      "66. feature 'Browser_11' (0.000086)\n",
      "67. feature 'TrafficType_15' (0.000045)\n",
      "68. feature 'TrafficType_19' (0.000017)\n",
      "69. feature 'TrafficType_18' (0.000009)\n",
      "70. feature 'OperatingSystems_7' (0.000005)\n",
      "71. feature 'TrafficType_14' (0.000005)\n",
      "72. feature 'Browser_9' (0.000000)\n",
      "73. feature 'TrafficType_17' (0.000000)\n",
      "74. feature 'TrafficType_12' (0.000000)\n"
     ]
    }
   ],
   "source": [
    "importances = clf.feature_importances_\n",
    "indices = np.argsort(importances)[::-1]\n",
    "\n",
    "print(\"Feature ranking:\")\n",
    "\n",
    "for f in range(d):\n",
    "    print(\"%2d. feature '%5s' (%f)\" % (f + 1, feature_names[indices[f]], importances[indices[f]])) "
   ]
  },
  {
   "cell_type": "code",
   "execution_count": 86,
   "metadata": {},
   "outputs": [
    {
     "data": {
      "text/plain": [
       "(-1.0, 20.0)"
      ]
     },
     "execution_count": 86,
     "metadata": {},
     "output_type": "execute_result"
    },
    {
     "data": {
      "image/png": "[encoded data removed]",
      "text/plain": [
       "<Figure size 432x288 with 1 Axes>"
      ]
     },
     "metadata": {
      "needs_background": "light"
     },
     "output_type": "display_data"
    }
   ],
   "source": [
    "d_first = 20\n",
    "plt.title(\"Feature importances\")\n",
    "plt.bar(range(d_first), importances[indices[:d_first]], align = 'center', color = 'r')\n",
    "plt.xticks(range(d_first), feature_names[indices[:d_first]], rotation = 90)\n",
    "plt.xlim([-1, d_first])"
   ]
  },
  {
   "cell_type": "markdown",
   "metadata": {},
   "source": [
    "\"PageValue\" показал себя как самый важный признак, оставляем его и все другие признаки до признака месяца ноября. "
   ]
  },
  {
   "cell_type": "code",
   "execution_count": 87,
   "metadata": {},
   "outputs": [],
   "source": [
    "X2= data[['PageValues', 'ProductRelated_Duration','ExitRates', 'ProductRelated','BounceRates','Administrative_Duration','Administrative','Informational','Informational_Duration']]\n",
    "y2 = data['Revenue']\n",
    "X2 = X2.to_numpy()\n",
    "y2 = np.array(y2.astype(int))\n",
    "X2_train, X2_test, y2_train, y2_test = train_test_split(X2, y2, test_size = 0.2, random_state = 13)"
   ]
  },
  {
   "cell_type": "code",
   "execution_count": 88,
   "metadata": {},
   "outputs": [
    {
     "data": {
      "text/plain": [
       "0.11171321383909963"
      ]
     },
     "execution_count": 88,
     "metadata": {},
     "output_type": "execute_result"
    }
   ],
   "source": [
    "clf=RandomForestClassifier(n_estimators=500)\n",
    "clf.fit(X2_train,y2_train)\n",
    "y2_pred=clf.predict(X2_test)\n",
    "err2_test  = np.mean(y2_test  != y2_pred)\n",
    "err2_test"
   ]
  },
  {
   "cell_type": "markdown",
   "metadata": {},
   "source": [
    "Однако, неудача. Попытка исключить возможные лишние признаки привела к падению точности. Делаем очевидный вывод, что они влияли на точность предсказаний и лишними не являлись.\n",
    "\n",
    "### Вывод\n",
    "\n",
    "Как итог выполненной лабораторной рабоыт была решена задача классификации. Было предсказано решение покупателя о совершении денежных транзакций в интернет магазине с помощью метода ближайших соседей и случайного леса. Минимальное значение ошибки при использовании параметра количества соседей равного 20. Алгоритм случайного леса смог построить более точное предсказание, однако попытка сконцентрировать работу алгоритма на важных признаков, не принесла успеха."
   ]
  },
  {
   "cell_type": "markdown",
   "metadata": {},
   "source": [
    "# Нейронные сети"
   ]
  },
  {
   "cell_type": "markdown",
   "metadata": {},
   "source": [
    "Обучаем классификатор"
   ]
  },
  {
   "cell_type": "code",
   "execution_count": 89,
   "metadata": {},
   "outputs": [],
   "source": [
    "X = data.drop('Revenue', axis = 1)\n",
    "Y = data['Revenue']\n",
    "X = X.to_numpy()\n",
    "Y = np.array(Y.astype(int))"
   ]
  },
  {
   "cell_type": "code",
   "execution_count": 90,
   "metadata": {},
   "outputs": [
    {
     "name": "stdout",
     "output_type": "stream",
     "text": [
      "8996 2999\n"
     ]
    }
   ],
   "source": [
    "from sklearn.model_selection import train_test_split\n",
    "X_train, X_test, y_train, y_test = train_test_split(X, Y, test_size = 0.25, random_state = 63)\n",
    "\n",
    "N_train, _ = X_train.shape \n",
    "N_test,  _ = X_test.shape \n",
    "\n",
    "print(N_train, N_test)"
   ]
  },
  {
   "cell_type": "code",
   "execution_count": 91,
   "metadata": {},
   "outputs": [],
   "source": [
    "from sklearn.neural_network import MLPClassifier"
   ]
  },
  {
   "cell_type": "code",
   "execution_count": 92,
   "metadata": {},
   "outputs": [
    {
     "data": {
      "text/plain": [
       "MLPClassifier(hidden_layer_sizes=(150,), max_iter=1000, random_state=13)"
      ]
     },
     "execution_count": 92,
     "metadata": {},
     "output_type": "execute_result"
    }
   ],
   "source": [
    "mlp_model = MLPClassifier(hidden_layer_sizes=(150,),\n",
    "                          solver='adam',\n",
    "                          activation='relu',\n",
    "                          random_state=13,\n",
    "                          max_iter=1000)\n",
    "mlp_model.fit(X_train, y_train)"
   ]
  },
  {
   "cell_type": "code",
   "execution_count": 93,
   "metadata": {},
   "outputs": [
    {
     "name": "stdout",
     "output_type": "stream",
     "text": [
      "Wall time: 1min 9s\n"
     ]
    },
    {
     "data": {
      "text/plain": [
       "MLPClassifier(hidden_layer_sizes=(150,), max_iter=1000, random_state=13)"
      ]
     },
     "execution_count": 93,
     "metadata": {},
     "output_type": "execute_result"
    }
   ],
   "source": [
    "%%time\n",
    "mlp_model.fit(X_train, y_train)"
   ]
  },
  {
   "cell_type": "markdown",
   "metadata": {},
   "source": [
    "Проверяем качество классификатора"
   ]
  },
  {
   "cell_type": "code",
   "execution_count": 94,
   "metadata": {},
   "outputs": [],
   "source": [
    "y_train_pred = mlp_model.predict(X_train)\n",
    "y_test_pred = mlp_model.predict(X_test)"
   ]
  },
  {
   "cell_type": "code",
   "execution_count": 95,
   "metadata": {},
   "outputs": [
    {
     "name": "stdout",
     "output_type": "stream",
     "text": [
      "0.0005558025789239662 0.11670556852284095\n"
     ]
    }
   ],
   "source": [
    "print(np.mean(y_train != y_train_pred), np.mean(y_test != y_test_pred))"
   ]
  },
  {
   "cell_type": "code",
   "execution_count": 96,
   "metadata": {},
   "outputs": [
    {
     "data": {
      "text/plain": [
       "0.999444197421076"
      ]
     },
     "execution_count": 96,
     "metadata": {},
     "output_type": "execute_result"
    }
   ],
   "source": [
    "from sklearn.metrics import accuracy_score\n",
    "accuracy_score(y_train, y_train_pred)"
   ]
  },
  {
   "cell_type": "code",
   "execution_count": 97,
   "metadata": {},
   "outputs": [
    {
     "data": {
      "text/plain": [
       "0.883294431477159"
      ]
     },
     "execution_count": 97,
     "metadata": {},
     "output_type": "execute_result"
    }
   ],
   "source": [
    "accuracy_score(y_test, y_test_pred)"
   ]
  },
  {
   "cell_type": "markdown",
   "metadata": {},
   "source": [
    "Подбор гипер параметров"
   ]
  },
  {
   "cell_type": "code",
   "execution_count": 98,
   "metadata": {},
   "outputs": [],
   "source": [
    "alpha_arr = np.logspace(-3, 2, 20)\n",
    "test_err = []\n",
    "train_err = []\n",
    "train_acc = []\n",
    "test_acc = []\n",
    "\n",
    "for alpha in alpha_arr:\n",
    "    mlp_model = MLPClassifier(alpha = alpha, \n",
    "                              hidden_layer_sizes=(100,),\n",
    "                              solver='adam',\n",
    "                              activation='relu',\n",
    "                              random_state=63,\n",
    "                              max_iter=1000)\n",
    "    mlp_model.fit(X_train, y_train)\n",
    "\n",
    "    y_train_pred = mlp_model.predict(X_train)\n",
    "    y_test_pred = mlp_model.predict(X_test)\n",
    "    \n",
    "    train_err.append(np.mean(y_train != y_train_pred))\n",
    "    test_err.append(np.mean(y_test != y_test_pred))\n",
    "    train_acc.append(accuracy_score(y_train, y_train_pred))\n",
    "    test_acc.append(accuracy_score(y_test, y_test_pred))"
   ]
  },
  {
   "cell_type": "code",
   "execution_count": 99,
   "metadata": {},
   "outputs": [
    {
     "data": {
      "text/plain": [
       "<matplotlib.legend.Legend at 0x173e80cc6d0>"
      ]
     },
     "execution_count": 99,
     "metadata": {},
     "output_type": "execute_result"
    },
    {
     "data": {
      "image/png": "[encoded data removed]",
      "text/plain": [
       "<Figure size 432x288 with 1 Axes>"
      ]
     },
     "metadata": {
      "needs_background": "light"
     },
     "output_type": "display_data"
    }
   ],
   "source": [
    "plt.semilogx(alpha_arr, train_err, 'b-o', label = 'train')\n",
    "plt.semilogx(alpha_arr, test_err, 'r-o', label = 'test')\n",
    "plt.xlim([np.min(alpha_arr), np.max(alpha_arr)])\n",
    "plt.title('Error vs. alpha')\n",
    "plt.xlabel('alpha')\n",
    "plt.ylabel('error')\n",
    "plt.legend()"
   ]
  },
  {
   "cell_type": "code",
   "execution_count": 100,
   "metadata": {},
   "outputs": [
    {
     "data": {
      "text/plain": [
       "<matplotlib.legend.Legend at 0x173e6e9bca0>"
      ]
     },
     "execution_count": 100,
     "metadata": {},
     "output_type": "execute_result"
    },
    {
     "data": {
      "image/png": "[encoded data removed]",
      "text/plain": [
       "<Figure size 432x288 with 1 Axes>"
      ]
     },
     "metadata": {
      "needs_background": "light"
     },
     "output_type": "display_data"
    }
   ],
   "source": [
    "plt.semilogx(alpha_arr, train_acc, 'r-o', label='train')\n",
    "plt.semilogx(alpha_arr, test_acc, 'b-o', label='test')\n",
    "plt.xlim([np.min(alpha_arr), np.max(alpha_arr)])\n",
    "plt.title('Accuracy vs. alpha')\n",
    "plt.xlabel('alpha')\n",
    "plt.ylabel('Accuracy')\n",
    "plt.legend()"
   ]
  },
  {
   "cell_type": "markdown",
   "metadata": {},
   "source": [
    "Минимальное значение ошибки:"
   ]
  },
  {
   "cell_type": "code",
   "execution_count": 101,
   "metadata": {},
   "outputs": [
    {
     "name": "stdout",
     "output_type": "stream",
     "text": [
      "0.001445086705202312 0.09669889963321107\n"
     ]
    }
   ],
   "source": [
    "min_train_err = np.min(train_err)\n",
    "min_test_err = np.min(test_err)\n",
    "print(min_train_err, min_test_err)"
   ]
  },
  {
   "cell_type": "markdown",
   "metadata": {},
   "source": [
    "Оптимальное значение alpha:"
   ]
  },
  {
   "cell_type": "code",
   "execution_count": 102,
   "metadata": {},
   "outputs": [
    {
     "name": "stdout",
     "output_type": "stream",
     "text": [
      "[0.1274275]\n"
     ]
    }
   ],
   "source": [
    "alpha_opt = alpha_arr[test_err == min_test_err]\n",
    "print(alpha_opt)"
   ]
  },
  {
   "cell_type": "markdown",
   "metadata": {},
   "source": [
    "Классификатор при найденном оптимальном значении alpha:"
   ]
  },
  {
   "cell_type": "code",
   "execution_count": 103,
   "metadata": {},
   "outputs": [
    {
     "name": "stdout",
     "output_type": "stream",
     "text": [
      "0.061805246776345045\n",
      "0.09736578859619874\n"
     ]
    },
    {
     "name": "stderr",
     "output_type": "stream",
     "text": [
      "D:\\ANACONDA\\lib\\site-packages\\sklearn\\neural_network\\_multilayer_perceptron.py:614: ConvergenceWarning: Stochastic Optimizer: Maximum iterations (200) reached and the optimization hasn't converged yet.\n",
      "  warnings.warn(\n"
     ]
    }
   ],
   "source": [
    "alpha_opt = alpha_opt[0]\n",
    "mlp_model = MLPClassifier(alpha = alpha_opt, hidden_layer_sizes = (100,), random_state = 63)\n",
    "mlp_model.fit(X_train, y_train)\n",
    "\n",
    "y_train_pred = mlp_model.predict(X_train)\n",
    "y_test_pred = mlp_model.predict(X_test)\n",
    "print(np.mean(y_train != y_train_pred))\n",
    "print(np.mean(y_test != y_test_pred))"
   ]
  },
  {
   "cell_type": "code",
   "execution_count": 104,
   "metadata": {},
   "outputs": [
    {
     "data": {
      "text/plain": [
       "0.938194753223655"
      ]
     },
     "execution_count": 104,
     "metadata": {},
     "output_type": "execute_result"
    }
   ],
   "source": [
    "accuracy_score(y_train, y_train_pred)"
   ]
  },
  {
   "cell_type": "code",
   "execution_count": 105,
   "metadata": {},
   "outputs": [
    {
     "data": {
      "text/plain": [
       "0.9026342114038013"
      ]
     },
     "execution_count": 105,
     "metadata": {},
     "output_type": "execute_result"
    }
   ],
   "source": [
    "accuracy_score(y_test, y_test_pred)"
   ]
  },
  {
   "cell_type": "code",
   "execution_count": 106,
   "metadata": {},
   "outputs": [],
   "source": [
    "neuron_arr = np.linspace(10, 500, 10).astype(int)\n",
    "test_error = []\n",
    "train_error = []\n",
    "test_acc = []\n",
    "train_acc = []\n",
    "\n",
    "for count in neuron_arr:\n",
    "  mlp_model = MLPClassifier(alpha=alpha_opt, hidden_layer_sizes=(count,), max_iter=1000, random_state=63)\n",
    "  mlp_model.fit(X_train, y_train)\n",
    "  \n",
    "  y_train_pred = mlp_model.predict(X_train)\n",
    "  y_test_pred = mlp_model.predict(X_test)\n",
    "  \n",
    "  test_error.append(np.mean(y_test != y_test_pred))\n",
    "  train_error.append(np.mean(y_train != y_train_pred))\n",
    "  test_acc.append(accuracy_score(y_test, y_test_pred))\n",
    "  train_acc.append(accuracy_score(y_train, y_train_pred))"
   ]
  },
  {
   "cell_type": "code",
   "execution_count": 107,
   "metadata": {},
   "outputs": [
    {
     "data": {
      "text/plain": [
       "<matplotlib.legend.Legend at 0x173e8035730>"
      ]
     },
     "execution_count": 107,
     "metadata": {},
     "output_type": "execute_result"
    },
    {
     "data": {
      "image/png": "[encoded data removed]",
      "text/plain": [
       "<Figure size 432x288 with 1 Axes>"
      ]
     },
     "metadata": {
      "needs_background": "light"
     },
     "output_type": "display_data"
    }
   ],
   "source": [
    "plt.plot(neuron_arr, train_error, 'r-o', label='train')\n",
    "plt.plot(neuron_arr, test_error, 'b-o', label='test')\n",
    "plt.xlim([np.min(neuron_arr), np.max(neuron_arr)])\n",
    "plt.xlabel('neuron count')\n",
    "plt.ylabel('error')\n",
    "plt.legend()"
   ]
  },
  {
   "cell_type": "code",
   "execution_count": 108,
   "metadata": {},
   "outputs": [
    {
     "data": {
      "text/plain": [
       "<matplotlib.legend.Legend at 0x173e7ecaa00>"
      ]
     },
     "execution_count": 108,
     "metadata": {},
     "output_type": "execute_result"
    },
    {
     "data": {
      "image/png": "[encoded data removed]",
      "text/plain": [
       "<Figure size 432x288 with 1 Axes>"
      ]
     },
     "metadata": {
      "needs_background": "light"
     },
     "output_type": "display_data"
    }
   ],
   "source": [
    "plt.plot(neuron_arr, train_acc, 'r-o', label='train')\n",
    "plt.plot(neuron_arr, test_acc, 'b-o', label='test')\n",
    "plt.xlim([np.min(neuron_arr), np.max(neuron_arr)])\n",
    "plt.xlabel('neuron count')\n",
    "plt.ylabel('accuracy')\n",
    "plt.legend()"
   ]
  },
  {
   "cell_type": "markdown",
   "metadata": {},
   "source": [
    "Минимальное значение ошибки"
   ]
  },
  {
   "cell_type": "code",
   "execution_count": 109,
   "metadata": {},
   "outputs": [
    {
     "name": "stdout",
     "output_type": "stream",
     "text": [
      "0.04346376167185416 0.09269756585528509\n"
     ]
    }
   ],
   "source": [
    "min_train_error = np.min(train_error)\n",
    "min_test_error = np.min(test_error)\n",
    "print(min_train_error, min_test_error)"
   ]
  },
  {
   "cell_type": "code",
   "execution_count": 110,
   "metadata": {},
   "outputs": [
    {
     "name": "stdout",
     "output_type": "stream",
     "text": [
      "10\n"
     ]
    }
   ],
   "source": [
    "neuron_opt = neuron_arr[test_error == min_test_error]\n",
    "print(neuron_opt[0])"
   ]
  },
  {
   "cell_type": "markdown",
   "metadata": {},
   "source": [
    "Классификатор при оптимальном значении параметра регуляризации и числа нейронов"
   ]
  },
  {
   "cell_type": "code",
   "execution_count": 111,
   "metadata": {},
   "outputs": [
    {
     "name": "stdout",
     "output_type": "stream",
     "text": [
      "0.0838150289017341\n",
      "0.09269756585528509\n"
     ]
    }
   ],
   "source": [
    "neuron_opt = neuron_opt[0]\n",
    "mlp_model = MLPClassifier(alpha = alpha_opt, hidden_layer_sizes = (neuron_opt,), random_state = 63)\n",
    "mlp_model.fit(X_train, y_train)\n",
    "\n",
    "y_train_pred = mlp_model.predict(X_train)\n",
    "y_test_pred = mlp_model.predict(X_test)\n",
    "print(np.mean(y_train != y_train_pred))\n",
    "print(np.mean(y_test != y_test_pred))"
   ]
  },
  {
   "cell_type": "code",
   "execution_count": 112,
   "metadata": {},
   "outputs": [
    {
     "data": {
      "text/plain": [
       "0.9161849710982659"
      ]
     },
     "execution_count": 112,
     "metadata": {},
     "output_type": "execute_result"
    }
   ],
   "source": [
    "accuracy_score(y_train, y_train_pred)"
   ]
  },
  {
   "cell_type": "code",
   "execution_count": 113,
   "metadata": {},
   "outputs": [
    {
     "data": {
      "text/plain": [
       "0.9073024341447149"
      ]
     },
     "execution_count": 113,
     "metadata": {},
     "output_type": "execute_result"
    }
   ],
   "source": [
    "accuracy_score(y_test, y_test_pred)"
   ]
  },
  {
   "cell_type": "markdown",
   "metadata": {},
   "source": [
    "Выводы\n",
    "\n",
    "- На графике alpha vs error наблюдаем переобучение.\n",
    "- При оптимальном alpha ошибка на тестовой выборке выше, чем у обучающей.\n",
    "- На графике Acc vs neuron наблюдаем, что при увеличении нейронов точность на обучающей выборке растёт, на тестовой же незначительно падает.\n",
    "- При оптимальном числе нейронов (10) точность тестововой выборки ниже, чем у обучающей выборки."
   ]
  },
  {
   "cell_type": "code",
   "execution_count": null,
   "metadata": {},
   "outputs": [],
   "source": []
  }
 ],
 "metadata": {
  "kernelspec": {
   "display_name": "Python 3 (ipykernel)",
   "language": "python",
   "name": "python3"
  },
  "language_info": {
   "codemirror_mode": {
    "name": "ipython",
    "version": 3
   },
   "file_extension": ".py",
   "mimetype": "text/x-python",
   "name": "python",
   "nbconvert_exporter": "python",
   "pygments_lexer": "ipython3",
   "version": "3.9.7"
  }
 },
 "nbformat": 4,
 "nbformat_minor": 4
}
